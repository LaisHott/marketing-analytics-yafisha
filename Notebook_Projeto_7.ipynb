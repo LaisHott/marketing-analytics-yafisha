{
  "cells": [
    {
      "cell_type": "markdown",
      "metadata": {
        "id": "view-in-github",
        "colab_type": "text"
      },
      "source": [
        "<a href=\"https://colab.research.google.com/github/LaisHott/marketing-analytics-yafisha/blob/main/Notebook_Projeto_7.ipynb\" target=\"_parent\"><img src=\"https://colab.research.google.com/assets/colab-badge.svg\" alt=\"Open In Colab\"/></a>"
      ]
    },
    {
      "cell_type": "markdown",
      "metadata": {
        "id": "4p4AM9SVkmqw"
      },
      "source": [
        "# Projeto de Otimização de Despesas com Marketing na Y.Afisha\n",
        "\n",
        "Este projeto tem como objetivo auxiliar a Y.Afisha, uma empresa do setor de entretenimento, na otimização de suas despesas com marketing. Como estagiário no departamento analítico, serei responsável por analisar dados valiosos coletados ao longo de dois anos, de janeiro de 2017 a dezembro de 2018.\n",
        "\n",
        "A Y.Afisha possui registros detalhados dos acessos ao seu produto e pedidos feitos durante esse período, bem como estatísticas de despesas com marketing. Esses dados serão a base da sua análise, que será dividida em quatro principais tarefas:\n",
        "\n",
        "- Análise do Comportamento dos Usuários: Como as pessoas usam o produto.\n",
        "- Quando elas começam a comprar: Análise do Ciclo de Compra.\n",
        "- Quanto dinheiro cada cliente traz para a empresa: Cálculo do Valor do Cliente (LTV).\n",
        "- Quando as despesas serão cobertas: Cálculo do Valor do Cliente (LTV).\n",
        "- Faremos um relatório e calculo de métricas para a Y.Afisha tomar decisões embasadas em dados concretos, otimizando suas estratégias de marketing e impulsionando o crescimento do negócio.\n"
      ]
    },
    {
      "cell_type": "markdown",
      "metadata": {
        "id": "iYHTGJF5kmqx"
      },
      "source": [
        "## Inicialização\n",
        "\n",
        "Vamos iniciar com a importação das bibliotecas necessárias e dos arquivos relevantes para nossa análise."
      ]
    },
    {
      "cell_type": "code",
      "execution_count": null,
      "metadata": {
        "id": "6DsdNOW-kmqy"
      },
      "outputs": [],
      "source": [
        "# Carregando bibliotecas\n",
        "import pandas as pd\n",
        "import matplotlib.pyplot as plt\n",
        "import seaborn as sns\n",
        "import scipy.stats as stats\n",
        "import numpy as np"
      ]
    },
    {
      "cell_type": "markdown",
      "metadata": {
        "id": "lWhEBui7kmq0"
      },
      "source": [
        "## Carregando os dados\n",
        "\n",
        "Vamos armazenar os dados sobre os acessos, pedidos e despesas em variáveis específicas e, em seguida, otimizá-los para a análise, certificando-nos de que cada coluna contenha o tipo correto de dados."
      ]
    },
    {
      "cell_type": "code",
      "execution_count": null,
      "metadata": {
        "id": "fV2yDlSzkmq1"
      },
      "outputs": [],
      "source": [
        "# Carregando os dados\n",
        "visits = pd.read_csv('/datasets/visits_log_us.csv')\n",
        "orders = pd.read_csv('/datasets/orders_log_us.csv')\n",
        "costs = pd.read_csv('/datasets/costs_us.csv')"
      ]
    },
    {
      "cell_type": "markdown",
      "metadata": {
        "id": "LopSHMMlkmq1"
      },
      "source": [
        "### Estudando o dataframe `visits`\n",
        "\n",
        "*Descrição dos dados*\n",
        "\n",
        "A tabela `visits` é sobre os logs do servidor com dados sobre os acessos ao site e contém as colunas abaixo:\n",
        "\n",
        "`Uid` — identificador unívoco do usuário\n",
        "\n",
        "`Device` — dispositivo do usuário\n",
        "\n",
        "`Start Ts` — data e hora do início da sessão\n",
        "\n",
        "`End Ts` — data e hora do final da sessão\n",
        "\n",
        "`Source Id` — identificador da origem do anúncio através do qual o usuário chegou"
      ]
    },
    {
      "cell_type": "code",
      "execution_count": null,
      "metadata": {
        "id": "6u62ePJykmq2",
        "outputId": "55fc11f7-0565-4e03-d3aa-02c03ac65c68"
      },
      "outputs": [
        {
          "name": "stdout",
          "output_type": "stream",
          "text": [
            "<class 'pandas.core.frame.DataFrame'>\n",
            "RangeIndex: 359400 entries, 0 to 359399\n",
            "Data columns (total 5 columns):\n",
            " #   Column     Non-Null Count   Dtype \n",
            "---  ------     --------------   ----- \n",
            " 0   Device     359400 non-null  object\n",
            " 1   End Ts     359400 non-null  object\n",
            " 2   Source Id  359400 non-null  int64 \n",
            " 3   Start Ts   359400 non-null  object\n",
            " 4   Uid        359400 non-null  uint64\n",
            "dtypes: int64(1), object(3), uint64(1)\n",
            "memory usage: 79.3 MB\n"
          ]
        }
      ],
      "source": [
        "# Analisando informações detalhadas sobre o dataframe \"visits\"\n",
        "visits.info(memory_usage='deep')"
      ]
    },
    {
      "cell_type": "markdown",
      "metadata": {
        "id": "178s5Pmykmq4"
      },
      "source": [
        "Ao analisarmos a coluna `Device`, percebe-se que esta contém apenas duas categorias: `desktop` e `touch`, que possivelmente se referem a dispositivos como computadores e telas sensíveis ao toque. Neste caso, é possível utilizar um tipo especial de dados na biblioteca Pandas chamado `category`, que se assemelha ao tipo \"object\" mas ocupa consideravelmente menos espaço na memória. Vamos otimizazr o dataframe lendo o arquivo com algumas configurações específicas."
      ]
    },
    {
      "cell_type": "code",
      "execution_count": null,
      "metadata": {
        "id": "M9TVEdP9kmq5"
      },
      "outputs": [],
      "source": [
        "# Otimizando o dataframe \"visits\"\n",
        "visits = pd.read_csv('/datasets/visits_log_us.csv',\n",
        "    nrows=500,\n",
        "    dtype={'Device': 'category'},\n",
        "    parse_dates=['Start Ts', 'End Ts'],\n",
        ")"
      ]
    },
    {
      "cell_type": "code",
      "execution_count": null,
      "metadata": {
        "id": "KSw6oU0Ckmq5"
      },
      "outputs": [],
      "source": [
        "#Vamos converter as colunas `Start Ts` e `End Ts`\n",
        "visits['Start Ts'] = pd.to_datetime(visits['Start Ts'], format=\"%Y-%m-%d %H:%M\")\n",
        "visits['End Ts'] = pd.to_datetime(visits['End Ts'], format=\"%Y-%m-%d %H:%M\")"
      ]
    },
    {
      "cell_type": "code",
      "execution_count": null,
      "metadata": {
        "id": "DXznt1pKkmq6",
        "outputId": "3756cf0b-81bc-4972-d4c5-aa24de3d00d6"
      },
      "outputs": [
        {
          "name": "stdout",
          "output_type": "stream",
          "text": [
            "<class 'pandas.core.frame.DataFrame'>\n",
            "RangeIndex: 500 entries, 0 to 499\n",
            "Data columns (total 5 columns):\n",
            " #   Column     Non-Null Count  Dtype         \n",
            "---  ------     --------------  -----         \n",
            " 0   Device     500 non-null    category      \n",
            " 1   End Ts     500 non-null    datetime64[ns]\n",
            " 2   Source Id  500 non-null    int64         \n",
            " 3   Start Ts   500 non-null    datetime64[ns]\n",
            " 4   Uid        500 non-null    uint64        \n",
            "dtypes: category(1), datetime64[ns](2), int64(1), uint64(1)\n",
            "memory usage: 16.5 KB\n"
          ]
        }
      ],
      "source": [
        "# Verificando as mudanças\n",
        "visits.info(memory_usage='deep')"
      ]
    },
    {
      "cell_type": "markdown",
      "metadata": {
        "id": "on42rZPbkmq6"
      },
      "source": [
        "Podemos observar que agora temos 16.5 MB ao invés de 34.5MB. Nós conseguimos fazê-lo ficar menor mudando o tipo de dados.\n",
        "Agora vamos precisar renomear as colunas para o formato Snake Case e remover os espaços. Vamos fazer isso criando um dicionário com suas respectivas chaves e deposi aplicar as colunas."
      ]
    },
    {
      "cell_type": "code",
      "execution_count": null,
      "metadata": {
        "id": "sfhDkLKXkmq7"
      },
      "outputs": [],
      "source": [
        "# Criando dicionário para mapenar a coluna\n",
        "column_mapping_visits = {\n",
        "    'End Ts': 'end_ts',\n",
        "    'Start Ts': 'start_ts',\n",
        "    'Source Id': 'source_id',\n",
        "    'Device': 'device',\n",
        "    'Uid': 'uid'\n",
        "}"
      ]
    },
    {
      "cell_type": "code",
      "execution_count": null,
      "metadata": {
        "id": "8gmxMvySkmq8"
      },
      "outputs": [],
      "source": [
        "# Renomeando as colunas usando dicionário\n",
        "visits.rename(columns=column_mapping_visits, inplace=True)"
      ]
    },
    {
      "cell_type": "code",
      "execution_count": null,
      "metadata": {
        "id": "CdsUMmg5kmq8",
        "outputId": "f15ffc97-67b5-4442-8ea3-417327df4bea"
      },
      "outputs": [
        {
          "data": {
            "text/plain": [
              "Index(['device', 'end_ts', 'source_id', 'start_ts', 'uid'], dtype='object')"
            ]
          },
          "execution_count": 58,
          "metadata": {},
          "output_type": "execute_result"
        }
      ],
      "source": [
        "# Verificando a alteração\n",
        "visits.columns"
      ]
    },
    {
      "cell_type": "markdown",
      "metadata": {
        "id": "oWBEMz21kmq9"
      },
      "source": [
        "### Estudando o dataframe `order`\n",
        "\n",
        "*Descrição dos dados*\n",
        "\n",
        "A tabela orders informa os dados sobre os pedidos:\n",
        "\n",
        "`Uid` — identificador unívoco do usuário que faz um pedido\n",
        "\n",
        "`Buy Ts` — data e hora do pedido\n",
        "\n",
        "`Revenue` — a receita da Y.Afisha com o pedido"
      ]
    },
    {
      "cell_type": "code",
      "execution_count": null,
      "metadata": {
        "id": "vDvlHdCRkmq9",
        "outputId": "f6ea249c-1d85-4fea-bafe-ce712d8a93c0"
      },
      "outputs": [
        {
          "name": "stdout",
          "output_type": "stream",
          "text": [
            "<class 'pandas.core.frame.DataFrame'>\n",
            "RangeIndex: 50415 entries, 0 to 50414\n",
            "Data columns (total 3 columns):\n",
            " #   Column   Non-Null Count  Dtype  \n",
            "---  ------   --------------  -----  \n",
            " 0   Buy Ts   50415 non-null  object \n",
            " 1   Revenue  50415 non-null  float64\n",
            " 2   Uid      50415 non-null  uint64 \n",
            "dtypes: float64(1), object(1), uint64(1)\n",
            "memory usage: 4.4 MB\n"
          ]
        }
      ],
      "source": [
        "# Analisando informações detalhadas sobre o dataframe \"visits\"\n",
        "orders.info(memory_usage='deep')"
      ]
    },
    {
      "cell_type": "markdown",
      "metadata": {
        "id": "tw4QMLNHkmq-"
      },
      "source": [
        "Vamos carregar os dados da tabela orders usando o parâmetro dtype para converter a coluna `uid` para o tipo uint64, e o parâmetro parse_dates para converter a coluna `Buy Ts` para o tipo datetime"
      ]
    },
    {
      "cell_type": "code",
      "execution_count": null,
      "metadata": {
        "id": "yOR12Zrlkmq-"
      },
      "outputs": [],
      "source": [
        "# Carregar os dados da tabela orders com os tipos corretos de dados\n",
        "orders = pd.read_csv('/datasets/orders_log_us.csv', dtype={'Uid': 'uint64'}, parse_dates=['Buy Ts'])"
      ]
    },
    {
      "cell_type": "code",
      "execution_count": null,
      "metadata": {
        "id": "EFhJP-Pxkmq_",
        "outputId": "15e9ab50-1b36-4106-ba07-9d86beb2187a"
      },
      "outputs": [
        {
          "name": "stdout",
          "output_type": "stream",
          "text": [
            "<class 'pandas.core.frame.DataFrame'>\n",
            "RangeIndex: 50415 entries, 0 to 50414\n",
            "Data columns (total 3 columns):\n",
            " #   Column   Non-Null Count  Dtype         \n",
            "---  ------   --------------  -----         \n",
            " 0   Buy Ts   50415 non-null  datetime64[ns]\n",
            " 1   Revenue  50415 non-null  float64       \n",
            " 2   Uid      50415 non-null  uint64        \n",
            "dtypes: datetime64[ns](1), float64(1), uint64(1)\n",
            "memory usage: 1.2 MB\n"
          ]
        }
      ],
      "source": [
        "# Verificando as alterações\n",
        "orders.info(memory_usage='deep')"
      ]
    },
    {
      "cell_type": "markdown",
      "metadata": {
        "id": "7tY-Up1ckmrA"
      },
      "source": [
        "Vamos precisar renomear as colunas para o formato Snake Case e remover os espaços. Vamos fazer isso criando um dicionário com suas respectivas chaves e depois aplicar as colunas. Seguindo o mesmo raciocínio do outro dataframe."
      ]
    },
    {
      "cell_type": "code",
      "execution_count": null,
      "metadata": {
        "id": "6gjKHLb6kmrA"
      },
      "outputs": [],
      "source": [
        "# Criando dicionário para mapenar a coluna\n",
        "column_mapping_orders = {\n",
        "    'Buy Ts': 'buy_ts',\n",
        "    'Revenue': 'revenue',\n",
        "    'Uid': 'uid'\n",
        "}\n"
      ]
    },
    {
      "cell_type": "code",
      "execution_count": null,
      "metadata": {
        "id": "iutrkiM1kmrB"
      },
      "outputs": [],
      "source": [
        "# Renomeando as colunas usando dicionário criado\n",
        "orders.rename(columns=column_mapping_orders, inplace=True)"
      ]
    },
    {
      "cell_type": "code",
      "execution_count": null,
      "metadata": {
        "id": "Jgl2eZqrkmrB",
        "outputId": "15ca8957-9f99-4df3-9ad6-daadaca10921"
      },
      "outputs": [
        {
          "data": {
            "text/plain": [
              "Index(['buy_ts', 'revenue', 'uid'], dtype='object')"
            ]
          },
          "execution_count": 64,
          "metadata": {},
          "output_type": "execute_result"
        }
      ],
      "source": [
        "# Verificando a alteração\n",
        "orders.columns"
      ]
    },
    {
      "cell_type": "markdown",
      "metadata": {
        "id": "oIibTsd-kmrB"
      },
      "source": [
        "### Estudando o dataframe `costs`\n",
        "\n",
        "A tabela `costs`representa dados sobre as despesas com marketing:\n",
        "\n",
        "`source_id` — identificador da origem de anúncio\n",
        "\n",
        "`dt` — data\n",
        "\n",
        "`costs` — despesas com esta origem de anúncio neste dia"
      ]
    },
    {
      "cell_type": "code",
      "execution_count": null,
      "metadata": {
        "id": "PlDsi4qEkmrC",
        "outputId": "e7921d8d-f529-4a14-df07-b988e35cdb14"
      },
      "outputs": [
        {
          "name": "stdout",
          "output_type": "stream",
          "text": [
            "<class 'pandas.core.frame.DataFrame'>\n",
            "RangeIndex: 2542 entries, 0 to 2541\n",
            "Data columns (total 3 columns):\n",
            " #   Column     Non-Null Count  Dtype  \n",
            "---  ------     --------------  -----  \n",
            " 0   source_id  2542 non-null   int64  \n",
            " 1   dt         2542 non-null   object \n",
            " 2   costs      2542 non-null   float64\n",
            "dtypes: float64(1), int64(1), object(1)\n",
            "memory usage: 206.2 KB\n"
          ]
        }
      ],
      "source": [
        "# Analisando informações detalhadas sobre o dataframe \"visits\"\n",
        "costs.info(memory_usage='deep')"
      ]
    },
    {
      "cell_type": "code",
      "execution_count": null,
      "metadata": {
        "id": "yGtmmKnMkmrC"
      },
      "outputs": [],
      "source": [
        "# Carregando os dados da tabela `costs` com os tipos corretos de dados\n",
        "costs = pd.read_csv('/datasets/costs_us.csv', parse_dates=['dt'])"
      ]
    },
    {
      "cell_type": "code",
      "execution_count": null,
      "metadata": {
        "id": "jy4swnZ3kmrD",
        "outputId": "7a118c96-bad2-46e6-f742-32432340c394"
      },
      "outputs": [
        {
          "name": "stdout",
          "output_type": "stream",
          "text": [
            "<class 'pandas.core.frame.DataFrame'>\n",
            "RangeIndex: 2542 entries, 0 to 2541\n",
            "Data columns (total 3 columns):\n",
            " #   Column     Non-Null Count  Dtype         \n",
            "---  ------     --------------  -----         \n",
            " 0   source_id  2542 non-null   int64         \n",
            " 1   dt         2542 non-null   datetime64[ns]\n",
            " 2   costs      2542 non-null   float64       \n",
            "dtypes: datetime64[ns](1), float64(1), int64(1)\n",
            "memory usage: 59.7 KB\n"
          ]
        }
      ],
      "source": [
        "# Verificando as alterações\n",
        "costs.info(memory_usage='deep')"
      ]
    },
    {
      "cell_type": "markdown",
      "metadata": {
        "id": "R2gZPKVCkmrE"
      },
      "source": [
        "Vamos verificar se eistem dados ausentes ou duplicados"
      ]
    },
    {
      "cell_type": "code",
      "execution_count": null,
      "metadata": {
        "id": "L6dqhpDrkmrF",
        "outputId": "6fb9f5f9-1a4e-4c50-f7cb-a62d3183738e"
      },
      "outputs": [
        {
          "data": {
            "text/plain": [
              "buy_ts     0\n",
              "revenue    0\n",
              "uid        0\n",
              "dtype: int64"
            ]
          },
          "execution_count": 68,
          "metadata": {},
          "output_type": "execute_result"
        }
      ],
      "source": [
        "orders.isna().sum()"
      ]
    },
    {
      "cell_type": "code",
      "execution_count": null,
      "metadata": {
        "id": "G5-trKbLkmrG",
        "outputId": "7565d4fb-97c2-4efe-f025-8b550b0aa20f"
      },
      "outputs": [
        {
          "data": {
            "text/plain": [
              "source_id    0\n",
              "dt           0\n",
              "costs        0\n",
              "dtype: int64"
            ]
          },
          "execution_count": 69,
          "metadata": {},
          "output_type": "execute_result"
        }
      ],
      "source": [
        "# Verificando os ausentes\n",
        "costs.isna().sum()"
      ]
    },
    {
      "cell_type": "code",
      "execution_count": null,
      "metadata": {
        "id": "8vP7iBb6kmrH",
        "outputId": "5db731db-e2c7-4e26-e1ca-f2449d482f5c"
      },
      "outputs": [
        {
          "data": {
            "text/plain": [
              "device       0\n",
              "end_ts       0\n",
              "source_id    0\n",
              "start_ts     0\n",
              "uid          0\n",
              "dtype: int64"
            ]
          },
          "execution_count": 70,
          "metadata": {},
          "output_type": "execute_result"
        }
      ],
      "source": [
        "visits.isna().sum()"
      ]
    },
    {
      "cell_type": "markdown",
      "metadata": {
        "id": "8TDQ7Y_mkmrI"
      },
      "source": [
        "Não encontramos dados ausentes ou duplicados nas tabelas após a otimização, isso indica que os dados estão completos e não há registros duplicados.\n",
        "\n",
        "Agora podemos avançar com a análise e explorar os dados para responder às perguntas do projeto e obter informações valiosas. Vamos trabalhar nas análises para gerar relatórios e calcular métricas.\n",
        "\n"
      ]
    },
    {
      "cell_type": "markdown",
      "metadata": {
        "id": "yJBw1HOSkmrK"
      },
      "source": [
        "## Produto\n",
        "\n",
        "### Quantas pessoas usam-no cada dia, semana e mês?\n",
        "\n",
        "Para calcular a quantidade de pessoas que usam o produto a cada dia, semana e mês, podemos utilizar as métricas de:\n",
        "\n",
        "Usuários ativos diários (DAU - Daily Active Users)\n",
        "Usuários ativos semanais (WAU - Weekly Active Users)\n",
        "Usuários ativos mensais (MAU - Monthly Active Users)\n",
        "\n",
        "Vamos calcular essas métricas usando o DataFrame visits que contém os logs do servidor com os dados sobre os acessos ao site."
      ]
    },
    {
      "cell_type": "code",
      "execution_count": null,
      "metadata": {
        "id": "FOBHc9FokmrL",
        "outputId": "89551490-1f37-4347-b6f7-b649b0c27711"
      },
      "outputs": [
        {
          "data": {
            "text/plain": [
              "start_ts\n",
              "2017-06-01    1\n",
              "2017-06-03    1\n",
              "2017-06-04    1\n",
              "2017-06-08    1\n",
              "2017-06-09    2\n",
              "             ..\n",
              "2018-05-26    2\n",
              "2018-05-28    3\n",
              "2018-05-29    2\n",
              "2018-05-30    4\n",
              "2018-05-31    5\n",
              "Name: uid, Length: 264, dtype: int64"
            ]
          },
          "execution_count": 71,
          "metadata": {},
          "output_type": "execute_result"
        }
      ],
      "source": [
        "# Calcular a quantidade de pessoas que usam o produto cada dia (DAU)\n",
        "daily_active_users = visits.groupby(visits['start_ts'].dt.date)['uid'].nunique()\n",
        "daily_active_users"
      ]
    },
    {
      "cell_type": "code",
      "execution_count": null,
      "metadata": {
        "id": "HSEm4iTGkmrL",
        "outputId": "63c89815-17e2-4020-ba8b-9de6b1d1f7bd"
      },
      "outputs": [
        {
          "data": {
            "text/plain": [
              "start_ts\n",
              "2017-05-30/2017-06-05     3\n",
              "2017-06-06/2017-06-12     3\n",
              "2017-06-13/2017-06-19     1\n",
              "2017-06-20/2017-06-26     6\n",
              "2017-06-27/2017-07-03    11\n",
              "2017-07-04/2017-07-10     7\n",
              "2017-07-11/2017-07-17     6\n",
              "2017-07-18/2017-07-24     5\n",
              "2017-07-25/2017-07-31     3\n",
              "2017-08-01/2017-08-07     6\n",
              "2017-08-08/2017-08-14     4\n",
              "2017-08-15/2017-08-21     6\n",
              "2017-08-22/2017-08-28     4\n",
              "2017-08-29/2017-09-04     6\n",
              "2017-09-05/2017-09-11     5\n",
              "2017-09-12/2017-09-18    13\n",
              "2017-09-19/2017-09-25     5\n",
              "2017-09-26/2017-10-02     8\n",
              "2017-10-03/2017-10-09    15\n",
              "2017-10-10/2017-10-16    16\n",
              "2017-10-17/2017-10-23    11\n",
              "2017-10-24/2017-10-30    10\n",
              "2017-10-31/2017-11-06    11\n",
              "2017-11-07/2017-11-13    20\n",
              "2017-11-14/2017-11-20    20\n",
              "2017-11-21/2017-11-27    12\n",
              "2017-11-28/2017-12-04    14\n",
              "2017-12-05/2017-12-11     8\n",
              "2017-12-12/2017-12-18     5\n",
              "2017-12-19/2017-12-25     8\n",
              "2017-12-26/2018-01-01    18\n",
              "2018-01-02/2018-01-08    14\n",
              "2018-01-09/2018-01-15     9\n",
              "2018-01-16/2018-01-22     9\n",
              "2018-01-23/2018-01-29    10\n",
              "2018-01-30/2018-02-05    19\n",
              "2018-02-06/2018-02-12    10\n",
              "2018-02-13/2018-02-19    10\n",
              "2018-02-20/2018-02-26    15\n",
              "2018-02-27/2018-03-05     6\n",
              "2018-03-06/2018-03-12    11\n",
              "2018-03-13/2018-03-19    11\n",
              "2018-03-20/2018-03-26    11\n",
              "2018-03-27/2018-04-02     4\n",
              "2018-04-03/2018-04-09    12\n",
              "2018-04-10/2018-04-16     5\n",
              "2018-04-17/2018-04-23     9\n",
              "2018-04-24/2018-04-30    11\n",
              "2018-05-01/2018-05-07    11\n",
              "2018-05-08/2018-05-14     6\n",
              "2018-05-15/2018-05-21    15\n",
              "2018-05-22/2018-05-28    10\n",
              "2018-05-29/2018-06-04    11\n",
              "Freq: W-MON, Name: uid, dtype: int64"
            ]
          },
          "execution_count": 72,
          "metadata": {},
          "output_type": "execute_result"
        }
      ],
      "source": [
        "# Calcular a quantidade de pessoas que usam o produto cada semana (WAU)\n",
        "weekly_active_users = visits.groupby(visits['start_ts'].dt.to_period('W-MON'))['uid'].nunique()\n",
        "weekly_active_users"
      ]
    },
    {
      "cell_type": "code",
      "execution_count": null,
      "metadata": {
        "id": "qIzggQm_kmrM",
        "outputId": "089ace25-9bf5-483b-a47a-cd050190b78c"
      },
      "outputs": [
        {
          "data": {
            "text/plain": [
              "start_ts\n",
              "2017-06    20\n",
              "2017-07    25\n",
              "2017-08    23\n",
              "2017-09    32\n",
              "2017-10    56\n",
              "2017-11    67\n",
              "2017-12    43\n",
              "2018-01    51\n",
              "2018-02    52\n",
              "2018-03    40\n",
              "2018-04    37\n",
              "2018-05    53\n",
              "Freq: M, Name: uid, dtype: int64"
            ]
          },
          "execution_count": 73,
          "metadata": {},
          "output_type": "execute_result"
        }
      ],
      "source": [
        "# Calcular a quantidade de pessoas que usam o produto cada mês (MAU)\n",
        "monthly_active_users = visits.groupby(visits['start_ts'].dt.to_period('M'))['uid'].nunique()\n",
        "monthly_active_users"
      ]
    },
    {
      "cell_type": "code",
      "execution_count": null,
      "metadata": {
        "id": "TWovYweQkmrM",
        "outputId": "29892d2f-1462-4322-8c32-e3f915794771"
      },
      "outputs": [
        {
          "name": "stdout",
          "output_type": "stream",
          "text": [
            "Usuários por dia:\n",
            "1    123\n",
            "2     76\n",
            "3     42\n",
            "4     17\n",
            "5      5\n",
            "6      1\n",
            "Name: uid, dtype: int64\n"
          ]
        }
      ],
      "source": [
        "print(\"Usuários por dia:\")\n",
        "print(daily_active_users.value_counts())"
      ]
    },
    {
      "cell_type": "code",
      "execution_count": null,
      "metadata": {
        "id": "-AQrAamVkmrM",
        "outputId": "5f341097-a000-4750-f1b4-39bd9a153fca"
      },
      "outputs": [
        {
          "name": "stdout",
          "output_type": "stream",
          "text": [
            "\n",
            "Usuários por semana:\n",
            "11    9\n",
            "6     7\n",
            "5     5\n",
            "10    5\n",
            "4     3\n",
            "15    3\n",
            "8     3\n",
            "9     3\n",
            "3     3\n",
            "14    2\n",
            "20    2\n",
            "12    2\n",
            "13    1\n",
            "7     1\n",
            "16    1\n",
            "18    1\n",
            "19    1\n",
            "1     1\n",
            "Name: uid, dtype: int64\n"
          ]
        }
      ],
      "source": [
        "print(\"\\nUsuários por semana:\")\n",
        "print(weekly_active_users.value_counts())"
      ]
    },
    {
      "cell_type": "code",
      "execution_count": null,
      "metadata": {
        "id": "guFCoCiIkmrN",
        "outputId": "4da4d444-09f2-473d-fd25-5e6093098be8"
      },
      "outputs": [
        {
          "name": "stdout",
          "output_type": "stream",
          "text": [
            "\n",
            "Usuários por mês:\n",
            "32    1\n",
            "52    1\n",
            "67    1\n",
            "20    1\n",
            "37    1\n",
            "53    1\n",
            "23    1\n",
            "56    1\n",
            "25    1\n",
            "43    1\n",
            "51    1\n",
            "40    1\n",
            "Name: uid, dtype: int64\n"
          ]
        }
      ],
      "source": [
        "print(\"\\nUsuários por mês:\")\n",
        "print(monthly_active_users.value_counts())"
      ]
    },
    {
      "cell_type": "markdown",
      "metadata": {
        "id": "xv8K6bqGkmrN"
      },
      "source": [
        "### Quantas sessões ocorrem por dia? (um usuário pode realizar várias sessões)"
      ]
    },
    {
      "cell_type": "code",
      "execution_count": null,
      "metadata": {
        "id": "vp5zO47CkmrN",
        "outputId": "36f9d34e-d0ea-4f43-e66b-34b4d3a08e85"
      },
      "outputs": [
        {
          "data": {
            "text/plain": [
              "start_ts\n",
              "2017-06-01    1\n",
              "2017-06-03    1\n",
              "2017-06-04    1\n",
              "2017-06-08    1\n",
              "2017-06-09    2\n",
              "             ..\n",
              "2018-05-26    2\n",
              "2018-05-28    3\n",
              "2018-05-29    2\n",
              "2018-05-30    4\n",
              "2018-05-31    5\n",
              "Length: 264, dtype: int64"
            ]
          },
          "execution_count": 77,
          "metadata": {},
          "output_type": "execute_result"
        }
      ],
      "source": [
        "# Quantas sessões ocorrem por dia?\n",
        "sessions_per_day = visits.groupby(visits['start_ts'].dt.date).size()\n",
        "sessions_per_day"
      ]
    },
    {
      "cell_type": "code",
      "execution_count": null,
      "metadata": {
        "id": "9lJFcKY_kmrO",
        "outputId": "d34692da-2bf0-4b2d-e569-02dfd2a40d0a"
      },
      "outputs": [
        {
          "name": "stdout",
          "output_type": "stream",
          "text": [
            "\n",
            "Sessões por dia:\n",
            "1    123\n",
            "2     76\n",
            "3     42\n",
            "4     17\n",
            "5      5\n",
            "6      1\n",
            "dtype: int64\n"
          ]
        }
      ],
      "source": [
        "# Exibir o resultado\n",
        "print(\"\\nSessões por dia:\")\n",
        "print(sessions_per_day.value_counts())"
      ]
    },
    {
      "cell_type": "markdown",
      "metadata": {
        "id": "IBssa79QkmrO"
      },
      "source": [
        "### Que comprimento tem cada sessão?\n",
        "\n",
        "Para calcular o comprimento de cada sessão, precisamos calcular a diferença de tempo entre a coluna `end_ts` (hora de término da sessão) e a coluna `start_ts` (hora de início da sessão) no DataFrame `visits`. Essa diferença de tempo nos dará a duração de cada sessão.\n"
      ]
    },
    {
      "cell_type": "code",
      "execution_count": null,
      "metadata": {
        "id": "vbqcxo5lkmrO"
      },
      "outputs": [],
      "source": [
        "# Calcular a duração de cada sessão (comprimento da sessão)\n",
        "visits['session_length'] = (visits['end_ts'] - visits['start_ts']).dt.seconds / 60\n",
        "average_session_length = visits['session_length'].mean()"
      ]
    },
    {
      "cell_type": "code",
      "execution_count": null,
      "metadata": {
        "id": "kuDsw0xmkmrO",
        "outputId": "a3c9d3d9-2517-4ad1-f7de-d9f7c2f3b09a"
      },
      "outputs": [
        {
          "name": "stdout",
          "output_type": "stream",
          "text": [
            "\n",
            "Comprimento médio da sessão (em minutos): 10.362\n"
          ]
        }
      ],
      "source": [
        "# Exibir o resultado\n",
        "print(\"\\nComprimento médio da sessão (em minutos):\", average_session_length)"
      ]
    },
    {
      "cell_type": "markdown",
      "metadata": {
        "id": "5kDmCt3fkmrP"
      },
      "source": [
        "Dessa forma, criamos uma nova coluna chamada `session_length` que armazena a diferença de tempo entre as colunas `end_ts` e `start_ts`, ou seja, o comprimento de cada sessão. O resultado exibirá a hora de início da sessão, a hora de término da sessão e o comprimento de cada sessão.\n",
        "\n",
        "As durações das sessões serão exibidas em forma de intervalo de tempo, mostrando o tempo decorrido em dias, horas, minutos e segundos. Por exemplo, se uma sessão durar 1 hora e 30 minutos, a duração será exibida como \"0 days 01:30:00\"."
      ]
    },
    {
      "cell_type": "markdown",
      "metadata": {
        "id": "0gFJBt3lkmrP"
      },
      "source": [
        "### Com que frequência os usuários voltam?\n",
        "\n",
        "Para responder a essa pergunta, precisamos identificar quando os usuários realizaram visitas subsequentes e calcular a taxa de retorno.\n",
        "\n",
        "Ao calcular o momento da última visita, podem ocorrer NaT (Not-a-Time) quando não houver visitas anteriores para um determinado usuário. Criamos uma nova coluna no DataFrame que indica se o usuário é um usuário recorrente ou não, e então calcular a taxa de retorno com base nessa coluna."
      ]
    },
    {
      "cell_type": "code",
      "execution_count": null,
      "metadata": {
        "id": "mX-Pau7ekmrP"
      },
      "outputs": [],
      "source": [
        "# Criar uma coluna com a data da primeira visita de cada usuário\n",
        "visits['first_visit'] = visits.groupby('uid')['start_ts'].transform('min')"
      ]
    },
    {
      "cell_type": "code",
      "execution_count": null,
      "metadata": {
        "id": "pOOEKJ_DkmrQ"
      },
      "outputs": [],
      "source": [
        "# Criar uma coluna indicando se o usuário é recorrente ou não\n",
        "visits['returning_user'] = (visits['start_ts'] > visits['first_visit']).astype(int)"
      ]
    },
    {
      "cell_type": "code",
      "execution_count": null,
      "metadata": {
        "id": "8HCX4KBhkmrR"
      },
      "outputs": [],
      "source": [
        "# Calcular o número de usuários que retornam em relação ao número total de usuários\n",
        "returning_users_percentage = visits['returning_user'].sum() / len(visits['uid'].unique()) * 100"
      ]
    },
    {
      "cell_type": "code",
      "execution_count": null,
      "metadata": {
        "id": "YF_cQJM_kmrR",
        "outputId": "d4d5af21-8af3-4843-919d-6bd380971d3e"
      },
      "outputs": [
        {
          "name": "stdout",
          "output_type": "stream",
          "text": [
            "Taxa de retorno de usuários: 1.42%\n"
          ]
        }
      ],
      "source": [
        "print(\"Taxa de retorno de usuários: {:.2f}%\".format(returning_users_percentage))"
      ]
    },
    {
      "cell_type": "markdown",
      "metadata": {
        "id": "dacZhqdMkmrR"
      },
      "source": [
        "Esse valor representa a porcentagem de usuários que retornaram e realizaram visitas adicionais após a primeira visita. É uma métrica importante para entender o engajamento e fidelidade dos usuários ao produto ou serviço."
      ]
    },
    {
      "cell_type": "code",
      "execution_count": null,
      "metadata": {
        "id": "rXxHAMnmkmrS",
        "outputId": "30e3ba38-09e4-410d-80c5-0d0f6ba295cf"
      },
      "outputs": [
        {
          "data": {
            "text/html": [
              "<div>\n",
              "<style scoped>\n",
              "    .dataframe tbody tr th:only-of-type {\n",
              "        vertical-align: middle;\n",
              "    }\n",
              "\n",
              "    .dataframe tbody tr th {\n",
              "        vertical-align: top;\n",
              "    }\n",
              "\n",
              "    .dataframe thead th {\n",
              "        text-align: right;\n",
              "    }\n",
              "</style>\n",
              "<table border=\"1\" class=\"dataframe\">\n",
              "  <thead>\n",
              "    <tr style=\"text-align: right;\">\n",
              "      <th></th>\n",
              "      <th>device</th>\n",
              "      <th>end_ts</th>\n",
              "      <th>source_id</th>\n",
              "      <th>start_ts</th>\n",
              "      <th>uid</th>\n",
              "      <th>session_length</th>\n",
              "      <th>first_visit</th>\n",
              "      <th>returning_user</th>\n",
              "    </tr>\n",
              "  </thead>\n",
              "  <tbody>\n",
              "    <tr>\n",
              "      <th>0</th>\n",
              "      <td>touch</td>\n",
              "      <td>2017-12-20 17:38:00</td>\n",
              "      <td>4</td>\n",
              "      <td>2017-12-20 17:20:00</td>\n",
              "      <td>16879256277535980062</td>\n",
              "      <td>18.0</td>\n",
              "      <td>2017-12-20 17:20:00</td>\n",
              "      <td>0</td>\n",
              "    </tr>\n",
              "    <tr>\n",
              "      <th>1</th>\n",
              "      <td>desktop</td>\n",
              "      <td>2018-02-19 17:21:00</td>\n",
              "      <td>2</td>\n",
              "      <td>2018-02-19 16:53:00</td>\n",
              "      <td>104060357244891740</td>\n",
              "      <td>28.0</td>\n",
              "      <td>2018-02-19 16:53:00</td>\n",
              "      <td>0</td>\n",
              "    </tr>\n",
              "    <tr>\n",
              "      <th>2</th>\n",
              "      <td>touch</td>\n",
              "      <td>2017-07-01 01:54:00</td>\n",
              "      <td>5</td>\n",
              "      <td>2017-07-01 01:54:00</td>\n",
              "      <td>7459035603376831527</td>\n",
              "      <td>0.0</td>\n",
              "      <td>2017-07-01 01:54:00</td>\n",
              "      <td>0</td>\n",
              "    </tr>\n",
              "    <tr>\n",
              "      <th>3</th>\n",
              "      <td>desktop</td>\n",
              "      <td>2018-05-20 11:23:00</td>\n",
              "      <td>9</td>\n",
              "      <td>2018-05-20 10:59:00</td>\n",
              "      <td>16174680259334210214</td>\n",
              "      <td>24.0</td>\n",
              "      <td>2018-05-20 10:59:00</td>\n",
              "      <td>0</td>\n",
              "    </tr>\n",
              "    <tr>\n",
              "      <th>4</th>\n",
              "      <td>desktop</td>\n",
              "      <td>2017-12-27 14:06:00</td>\n",
              "      <td>3</td>\n",
              "      <td>2017-12-27 14:06:00</td>\n",
              "      <td>9969694820036681168</td>\n",
              "      <td>0.0</td>\n",
              "      <td>2017-12-27 14:06:00</td>\n",
              "      <td>0</td>\n",
              "    </tr>\n",
              "  </tbody>\n",
              "</table>\n",
              "</div>"
            ],
            "text/plain": [
              "    device              end_ts  source_id            start_ts  \\\n",
              "0    touch 2017-12-20 17:38:00          4 2017-12-20 17:20:00   \n",
              "1  desktop 2018-02-19 17:21:00          2 2018-02-19 16:53:00   \n",
              "2    touch 2017-07-01 01:54:00          5 2017-07-01 01:54:00   \n",
              "3  desktop 2018-05-20 11:23:00          9 2018-05-20 10:59:00   \n",
              "4  desktop 2017-12-27 14:06:00          3 2017-12-27 14:06:00   \n",
              "\n",
              "                    uid  session_length         first_visit  returning_user  \n",
              "0  16879256277535980062            18.0 2017-12-20 17:20:00               0  \n",
              "1    104060357244891740            28.0 2018-02-19 16:53:00               0  \n",
              "2   7459035603376831527             0.0 2017-07-01 01:54:00               0  \n",
              "3  16174680259334210214            24.0 2018-05-20 10:59:00               0  \n",
              "4   9969694820036681168             0.0 2017-12-27 14:06:00               0  "
            ]
          },
          "execution_count": 85,
          "metadata": {},
          "output_type": "execute_result"
        }
      ],
      "source": [
        "#Verificando o dataframe com nova coluna\n",
        "visits.head()"
      ]
    },
    {
      "cell_type": "markdown",
      "metadata": {
        "id": "0Xg3k3QJkmrS"
      },
      "source": [
        "Através da análise de métricas como o número de usuários ativos diários, semanais e mensais, podemos entender a frequência de uso do produto pelos clientes. O cálculo da taxa de retenção revelou a proporção de usuários que retornam ao produto em períodos subsequentes, o que é fundamental para a visibilidade de anúncios e receitas recorrentes."
      ]
    },
    {
      "cell_type": "markdown",
      "metadata": {
        "id": "ms_2pYdWkmrS"
      },
      "source": [
        "## Vendas\n",
        "\n",
        "### Quando as pessoas começam a comprar?\n",
        "\n",
        "- (Na análise de KPIs, nós geralmente estamos interessados em saber o período de tempo entre o registro e a conversão - quando o usuário se torna um cliente. Por exemplo, se o registro e a primeira compra de um usuário ocorrem no mesmo dia, ele pode encaixar na categoria de Conversão 0d. Se a compra é realizada no dia seguinte, isso será a Conversão 1d. Você pode usar qualquer abordagem que permita comparar as conversões de diferentes coortes, para que você possa determinar qual coorte ou canal de marketing tem a maior eficiência)\n",
        "\n",
        "Para responder a essa pergunta, precisamos calcular o tempo entre o registro do usuário e sua primeira compra. Vamos criar uma coluna na tabela `orders` com essa informação e agrupar os dados por coorte para comparar as conversões ao longo do tempo.\n",
        "\n",
        "Para criar a coluna `cohort_month`, vamos extrair apenas o mês da coluna `first_visit` e atribuir esse valor à coluna `cohort_month`. Isso nos permitirá agrupar os dados de vendas por coorte mensal."
      ]
    },
    {
      "cell_type": "code",
      "execution_count": null,
      "metadata": {
        "id": "2PIL8tsekmrS"
      },
      "outputs": [],
      "source": [
        "# Criar a coluna de coorte mensal (cohort_month) no DataFrame visits com o mês da primeira visita do usuário\n",
        "visits['cohort_month'] = visits['first_visit'].dt.to_period('M')"
      ]
    },
    {
      "cell_type": "code",
      "execution_count": null,
      "metadata": {
        "id": "PovsVNpwkmrT",
        "outputId": "72d27f07-416c-4095-958e-5dda8209e4c9"
      },
      "outputs": [
        {
          "data": {
            "text/html": [
              "<div>\n",
              "<style scoped>\n",
              "    .dataframe tbody tr th:only-of-type {\n",
              "        vertical-align: middle;\n",
              "    }\n",
              "\n",
              "    .dataframe tbody tr th {\n",
              "        vertical-align: top;\n",
              "    }\n",
              "\n",
              "    .dataframe thead th {\n",
              "        text-align: right;\n",
              "    }\n",
              "</style>\n",
              "<table border=\"1\" class=\"dataframe\">\n",
              "  <thead>\n",
              "    <tr style=\"text-align: right;\">\n",
              "      <th></th>\n",
              "      <th>uid</th>\n",
              "      <th>start_ts</th>\n",
              "    </tr>\n",
              "  </thead>\n",
              "  <tbody>\n",
              "    <tr>\n",
              "      <th>0</th>\n",
              "      <td>26444720349515450</td>\n",
              "      <td>2017-10-04 10:11:00</td>\n",
              "    </tr>\n",
              "    <tr>\n",
              "      <th>1</th>\n",
              "      <td>31829771676291080</td>\n",
              "      <td>2018-05-28 09:50:00</td>\n",
              "    </tr>\n",
              "    <tr>\n",
              "      <th>2</th>\n",
              "      <td>57485875069801487</td>\n",
              "      <td>2018-04-10 17:56:00</td>\n",
              "    </tr>\n",
              "    <tr>\n",
              "      <th>3</th>\n",
              "      <td>63137637277926835</td>\n",
              "      <td>2017-12-28 15:24:00</td>\n",
              "    </tr>\n",
              "    <tr>\n",
              "      <th>4</th>\n",
              "      <td>67645486470800121</td>\n",
              "      <td>2017-10-18 09:48:00</td>\n",
              "    </tr>\n",
              "  </tbody>\n",
              "</table>\n",
              "</div>"
            ],
            "text/plain": [
              "                 uid            start_ts\n",
              "0  26444720349515450 2017-10-04 10:11:00\n",
              "1  31829771676291080 2018-05-28 09:50:00\n",
              "2  57485875069801487 2018-04-10 17:56:00\n",
              "3  63137637277926835 2017-12-28 15:24:00\n",
              "4  67645486470800121 2017-10-18 09:48:00"
            ]
          },
          "execution_count": 87,
          "metadata": {},
          "output_type": "execute_result"
        }
      ],
      "source": [
        "# Agrupando as visitas por identificador de usuário (uid),\n",
        "visits_groupby_uid = visits.groupby('uid').agg({'start_ts': 'min'}).reset_index()\n",
        "visits_groupby_uid.head()"
      ]
    },
    {
      "cell_type": "code",
      "execution_count": null,
      "metadata": {
        "id": "HE2LQREbkmrT",
        "outputId": "2be47355-622b-40a9-c89f-92954a5b53bd"
      },
      "outputs": [
        {
          "data": {
            "text/html": [
              "<div>\n",
              "<style scoped>\n",
              "    .dataframe tbody tr th:only-of-type {\n",
              "        vertical-align: middle;\n",
              "    }\n",
              "\n",
              "    .dataframe tbody tr th {\n",
              "        vertical-align: top;\n",
              "    }\n",
              "\n",
              "    .dataframe thead th {\n",
              "        text-align: right;\n",
              "    }\n",
              "</style>\n",
              "<table border=\"1\" class=\"dataframe\">\n",
              "  <thead>\n",
              "    <tr style=\"text-align: right;\">\n",
              "      <th></th>\n",
              "      <th>uid</th>\n",
              "      <th>buy_ts</th>\n",
              "    </tr>\n",
              "  </thead>\n",
              "  <tbody>\n",
              "    <tr>\n",
              "      <th>0</th>\n",
              "      <td>313578113262317</td>\n",
              "      <td>2018-01-03 21:51:00</td>\n",
              "    </tr>\n",
              "    <tr>\n",
              "      <th>1</th>\n",
              "      <td>1575281904278712</td>\n",
              "      <td>2017-06-03 10:13:00</td>\n",
              "    </tr>\n",
              "    <tr>\n",
              "      <th>2</th>\n",
              "      <td>2429014661409475</td>\n",
              "      <td>2017-10-11 18:33:00</td>\n",
              "    </tr>\n",
              "    <tr>\n",
              "      <th>3</th>\n",
              "      <td>2464366381792757</td>\n",
              "      <td>2018-01-28 15:54:00</td>\n",
              "    </tr>\n",
              "    <tr>\n",
              "      <th>4</th>\n",
              "      <td>2551852515556206</td>\n",
              "      <td>2017-11-24 10:14:00</td>\n",
              "    </tr>\n",
              "  </tbody>\n",
              "</table>\n",
              "</div>"
            ],
            "text/plain": [
              "                uid              buy_ts\n",
              "0   313578113262317 2018-01-03 21:51:00\n",
              "1  1575281904278712 2017-06-03 10:13:00\n",
              "2  2429014661409475 2017-10-11 18:33:00\n",
              "3  2464366381792757 2018-01-28 15:54:00\n",
              "4  2551852515556206 2017-11-24 10:14:00"
            ]
          },
          "execution_count": 88,
          "metadata": {},
          "output_type": "execute_result"
        }
      ],
      "source": [
        "# Agrupa os pedidos por identificador de usuário (uid),\n",
        "orders_buy_ts = orders.groupby('uid').agg({'buy_ts':'min'}).reset_index()\n",
        "orders_buy_ts.head()"
      ]
    },
    {
      "cell_type": "markdown",
      "metadata": {
        "id": "Z6-C6cQGkmrT"
      },
      "source": [
        "Vamos combinar os dados agrupados de visitas e pedidos com base no identificador de usuário (uid) usando um merge de tipo 'left'. Em seguida, calculamos o tempo de conversão (em dias) para cada usuário, subtraindo a data mínima de início de visita (start_ts) da data mínima de compra (buy_ts) e armazenando o resultado na coluna `time_to_conversion` no DataFrame resultante."
      ]
    },
    {
      "cell_type": "code",
      "execution_count": null,
      "metadata": {
        "id": "j91R6dkRkmrT",
        "outputId": "17df0f23-ea6c-4caa-add3-c6d7ed042f81"
      },
      "outputs": [
        {
          "data": {
            "text/html": [
              "<div>\n",
              "<style scoped>\n",
              "    .dataframe tbody tr th:only-of-type {\n",
              "        vertical-align: middle;\n",
              "    }\n",
              "\n",
              "    .dataframe tbody tr th {\n",
              "        vertical-align: top;\n",
              "    }\n",
              "\n",
              "    .dataframe thead th {\n",
              "        text-align: right;\n",
              "    }\n",
              "</style>\n",
              "<table border=\"1\" class=\"dataframe\">\n",
              "  <thead>\n",
              "    <tr style=\"text-align: right;\">\n",
              "      <th></th>\n",
              "      <th>uid</th>\n",
              "      <th>start_ts</th>\n",
              "      <th>buy_ts</th>\n",
              "      <th>time_to_conversion</th>\n",
              "    </tr>\n",
              "  </thead>\n",
              "  <tbody>\n",
              "    <tr>\n",
              "      <th>0</th>\n",
              "      <td>26444720349515450</td>\n",
              "      <td>2017-10-04 10:11:00</td>\n",
              "      <td>2017-10-04 14:26:00</td>\n",
              "      <td>0.177083</td>\n",
              "    </tr>\n",
              "    <tr>\n",
              "      <th>1</th>\n",
              "      <td>31829771676291080</td>\n",
              "      <td>2018-05-28 09:50:00</td>\n",
              "      <td>NaT</td>\n",
              "      <td>NaN</td>\n",
              "    </tr>\n",
              "    <tr>\n",
              "      <th>2</th>\n",
              "      <td>57485875069801487</td>\n",
              "      <td>2018-04-10 17:56:00</td>\n",
              "      <td>NaT</td>\n",
              "      <td>NaN</td>\n",
              "    </tr>\n",
              "    <tr>\n",
              "      <th>3</th>\n",
              "      <td>63137637277926835</td>\n",
              "      <td>2017-12-28 15:24:00</td>\n",
              "      <td>NaT</td>\n",
              "      <td>NaN</td>\n",
              "    </tr>\n",
              "    <tr>\n",
              "      <th>4</th>\n",
              "      <td>67645486470800121</td>\n",
              "      <td>2017-10-18 09:48:00</td>\n",
              "      <td>2017-10-24 08:17:00</td>\n",
              "      <td>5.936806</td>\n",
              "    </tr>\n",
              "  </tbody>\n",
              "</table>\n",
              "</div>"
            ],
            "text/plain": [
              "                 uid            start_ts              buy_ts  \\\n",
              "0  26444720349515450 2017-10-04 10:11:00 2017-10-04 14:26:00   \n",
              "1  31829771676291080 2018-05-28 09:50:00                 NaT   \n",
              "2  57485875069801487 2018-04-10 17:56:00                 NaT   \n",
              "3  63137637277926835 2017-12-28 15:24:00                 NaT   \n",
              "4  67645486470800121 2017-10-18 09:48:00 2017-10-24 08:17:00   \n",
              "\n",
              "   time_to_conversion  \n",
              "0            0.177083  \n",
              "1                 NaN  \n",
              "2                 NaN  \n",
              "3                 NaN  \n",
              "4            5.936806  "
            ]
          },
          "execution_count": 89,
          "metadata": {},
          "output_type": "execute_result"
        }
      ],
      "source": [
        "merged_visits_orders = visits_groupby_uid.merge(orders_buy_ts, on='uid', how='left')\n",
        "merged_visits_orders['time_to_conversion'] = (merged_visits_orders['buy_ts'] - merged_visits_orders['start_ts']).dt.total_seconds() / 86400\n",
        "merged_visits_orders.head()"
      ]
    },
    {
      "cell_type": "markdown",
      "metadata": {
        "id": "kLPYXWJjkmrT"
      },
      "source": [
        "O surgimento de valores nulos ao combinar os DataFrames visits e orders ocorre porque nem todos os uid presentes em visits têm uma correspondência em orders. Isso significa que existem usuários que realizaram visitas, mas não fizeram nenhuma compra, resultando em valores nulos para as colunas `buy_ts`, e `time_to_conversion`."
      ]
    },
    {
      "cell_type": "code",
      "execution_count": null,
      "metadata": {
        "id": "H0a-vQo_kmrU"
      },
      "outputs": [],
      "source": [
        "# Função personalizada para categorizar a conversão com base no tempo\n",
        "def categorize_conversion(time_to_conversion):\n",
        "    if time_to_conversion == 0:\n",
        "        return '0d'\n",
        "    elif time_to_conversion == 1:\n",
        "        return '1d'\n",
        "    elif time_to_conversion == 2:\n",
        "        return '2d'\n",
        "    elif time_to_conversion == 3:\n",
        "        return '3d'\n",
        "    elif time_to_conversion <= 7:\n",
        "        return '1w'\n",
        "    else:\n",
        "        return '>1w'"
      ]
    },
    {
      "cell_type": "code",
      "execution_count": null,
      "metadata": {
        "id": "jW4r5mXCkmrV"
      },
      "outputs": [],
      "source": [
        "# Aplicar a função personalizada à coluna 'Time_to_Conversion' para criar a coluna 'Conversion Category'\n",
        "orders['conversion_category'] = merged_visits_orders['time_to_conversion'].apply(categorize_conversion)"
      ]
    },
    {
      "cell_type": "code",
      "execution_count": null,
      "metadata": {
        "id": "B-VPk0vIkmrV",
        "outputId": "81072fec-59ce-4004-b157-00fc81ec0258"
      },
      "outputs": [
        {
          "name": "stdout",
          "output_type": "stream",
          "text": [
            "Assimetria: -1.1199691452533374\n",
            "Curtose: 2.0228135934741482\n"
          ]
        }
      ],
      "source": [
        "# Verificar a assimetria e curtose da distribuição\n",
        "print(\"Assimetria:\", merged_visits_orders['time_to_conversion'].skew())\n",
        "print(\"Curtose:\", merged_visits_orders['time_to_conversion'].kurtosis())"
      ]
    },
    {
      "cell_type": "markdown",
      "metadata": {
        "id": "9z0U5yrXkmrV"
      },
      "source": [
        "Devido a alguns visitantes realizarem compras antes de visitar, o cálculo anterior pode gerar valores negativos na coluna `time_to_conversion`. Para garantir uma melhor análise e preparar os dados para o gráfico seguinte, esses valores serão substituídos por zero."
      ]
    },
    {
      "cell_type": "code",
      "execution_count": null,
      "metadata": {
        "id": "Z4q2hQCzkmrW"
      },
      "outputs": [],
      "source": [
        "# Substituindo os valores negativos por zero\n",
        "merged_visits_orders.loc[merged_visits_orders['time_to_conversion'] < 0, 'time_to_conversion'] = 0"
      ]
    },
    {
      "cell_type": "markdown",
      "metadata": {
        "id": "nbiH8htpkmrW"
      },
      "source": [
        "Vamos realizar um drop (remoção) dos valores ausentes porque existem usuários que realizaram visitas, mas não fizeram nenhuma compra, o que resulta em valores nulos para as colunas `buy_ts` (data de compra) e `time_to_conversion` (tempo de conversão). Esses valores nulos podem afetar nossa análise e visualização dos dados, e, portanto, optamos por remover esses registros para garantir a integridade dos resultados."
      ]
    },
    {
      "cell_type": "code",
      "execution_count": null,
      "metadata": {
        "id": "4Gww2cVqkmrW",
        "outputId": "ce17e523-ceca-42c4-8998-0d8ee8192cce"
      },
      "outputs": [
        {
          "data": {
            "text/plain": [
              "uid                     0\n",
              "start_ts                0\n",
              "buy_ts                367\n",
              "time_to_conversion    367\n",
              "dtype: int64"
            ]
          },
          "execution_count": 94,
          "metadata": {},
          "output_type": "execute_result"
        }
      ],
      "source": [
        "merged_visits_orders.isna().sum()"
      ]
    },
    {
      "cell_type": "code",
      "execution_count": null,
      "metadata": {
        "id": "llOy8M44kmrW"
      },
      "outputs": [],
      "source": [
        "# Realiando drop nos valores ausentes\n",
        "merged_visits_orders.dropna(inplace=True)"
      ]
    },
    {
      "cell_type": "code",
      "execution_count": null,
      "metadata": {
        "id": "n_QKKiwvkmrW",
        "outputId": "010c5c05-9cb8-4301-a476-54d019519b06"
      },
      "outputs": [
        {
          "data": {
            "text/plain": [
              "uid                   0\n",
              "start_ts              0\n",
              "buy_ts                0\n",
              "time_to_conversion    0\n",
              "dtype: int64"
            ]
          },
          "execution_count": 96,
          "metadata": {},
          "output_type": "execute_result"
        }
      ],
      "source": [
        "# Verificando a remoção\n",
        "merged_visits_orders.isna().sum()"
      ]
    },
    {
      "cell_type": "code",
      "execution_count": null,
      "metadata": {
        "id": "holb-P6FkmrW",
        "outputId": "0140da85-7941-4e1e-db03-016dc3403f6b"
      },
      "outputs": [
        {
          "data": {
            "text/plain": [
              "Text(0.5, 1.0, 'ECDF do tempo até a primeira compra')"
            ]
          },
          "execution_count": 97,
          "metadata": {},
          "output_type": "execute_result"
        },
        {
          "data": {
            "image/png": "[encoded data removed]",
            "text/plain": [
              "<Figure size 432x288 with 1 Axes>"
            ]
          },
          "metadata": {
            "needs_background": "light"
          },
          "output_type": "display_data"
        }
      ],
      "source": [
        "# Plotar uma ECDF\n",
        "def ecdf(data):\n",
        "    \"\"\"Compute ECDF for a one-dimensional array of measurements.\"\"\"\n",
        "    # Number of data points: n\n",
        "    n = len(data)\n",
        "\n",
        "    # x-data for the ECDF: x\n",
        "    x = np.sort(data)\n",
        "\n",
        "    # y-data for the ECDF: y\n",
        "    y = np.arange(1, n+1) / n\n",
        "    return x, y\n",
        "\n",
        "x, y = ecdf(merged_visits_orders['time_to_conversion'])\n",
        "\n",
        "plt.plot(x, y, marker='.', linestyle='none')\n",
        "plt.xlabel('Tempo até a primeira compra (dias)')\n",
        "plt.ylabel('ECDF')\n",
        "plt.title('ECDF do tempo até a primeira compra')"
      ]
    },
    {
      "cell_type": "markdown",
      "metadata": {
        "id": "jK8q-7U7kmrX"
      },
      "source": [
        "ECDF (Empirical Cumulative Distribution Function) é uma função estatística utilizada para representar a distribuição acumulada de uma variável em um conjunto de dados. Essa função nos mostra a proporção de valores iguais ou menores a um determinado valor em relação ao total de valores do conjunto.\n",
        "\n",
        "Esse gráfico mostrará a proporção acumulada de usuários que realizaram sua primeira compra dentro de um determinado número de dias após a primeira visita.\n",
        "\n",
        "No gráfico da ECDF, podemos interpretar o valor do eixo y (probabilidade cumulativa) como a porcentagem dos dados que estão abaixo ou igual ao valor correspondente no eixo x (tempo até a primeira compra). Portanto, quando a curva atinge 0.8 (80%) no eixo y, isso significa que 80% dos usuários realizaram sua primeira compra antes ou até aquele valor no eixo x.\n",
        "A curva mostra que 80% dos usuários fizeram suas primeiras compras antes de atingirem zero no tempo de conversão (eixo x), isso significa que a maioria dos usuários está fazendo compras antes de realizar a primeira visita.\n",
        "\n",
        "A ocorrência de conversões antes das visitas pode indicar que os usuários estão sendo impactados por campanhas de marketing, indicações de terceiros ou outras formas de influência que os levam diretamente à compra, sem necessariamente passarem por uma visita anterior."
      ]
    },
    {
      "cell_type": "markdown",
      "metadata": {
        "id": "O9Tyn-dSkmrX"
      },
      "source": [
        "### Quantos pedidos os clientes fazem durante um determinado período de tempo?\n",
        "\n",
        "Para calcular quantos pedidos os clientes fazem durante um determinado período de tempo, podemos seguir os seguintes passos:\n",
        "\n",
        "Agrupar os dados da tabela `orders` pela coluna `uid` para obter o número de pedidos de cada cliente e contar o número de pedidos para cada cliente.\n",
        "\n",
        "Pode ocorrer resultado vazio se não houver pedidos feitos durante o periodo desejado. Para garantir que os dados estejam corretos e verificar se há pedidos registrados, vamos adicionar uma verificação para imprimir uma mensagem se não houver pedidos no período de tempo especificado."
      ]
    },
    {
      "cell_type": "code",
      "execution_count": null,
      "metadata": {
        "id": "_wGeOptIkmrY"
      },
      "outputs": [],
      "source": [
        "# Definir o período de tempo desejado (por exemplo, do início ao fim do mês de junho de 2023)\n",
        "data_inicio = pd.Timestamp('2017-06-01')\n",
        "data_fim = pd.Timestamp('2017-06-30')"
      ]
    },
    {
      "cell_type": "code",
      "execution_count": null,
      "metadata": {
        "id": "aRJLYs1ukmrY",
        "outputId": "d88b9c15-28a4-4898-b992-a69125535dc8"
      },
      "outputs": [
        {
          "data": {
            "text/html": [
              "<div>\n",
              "<style scoped>\n",
              "    .dataframe tbody tr th:only-of-type {\n",
              "        vertical-align: middle;\n",
              "    }\n",
              "\n",
              "    .dataframe tbody tr th {\n",
              "        vertical-align: top;\n",
              "    }\n",
              "\n",
              "    .dataframe thead th {\n",
              "        text-align: right;\n",
              "    }\n",
              "</style>\n",
              "<table border=\"1\" class=\"dataframe\">\n",
              "  <thead>\n",
              "    <tr style=\"text-align: right;\">\n",
              "      <th></th>\n",
              "      <th>buy_ts</th>\n",
              "      <th>revenue</th>\n",
              "      <th>uid</th>\n",
              "      <th>conversion_category</th>\n",
              "    </tr>\n",
              "  </thead>\n",
              "  <tbody>\n",
              "    <tr>\n",
              "      <th>0</th>\n",
              "      <td>2017-06-01 00:10:00</td>\n",
              "      <td>17.00</td>\n",
              "      <td>10329302124590727494</td>\n",
              "      <td>1w</td>\n",
              "    </tr>\n",
              "    <tr>\n",
              "      <th>1</th>\n",
              "      <td>2017-06-01 00:25:00</td>\n",
              "      <td>0.55</td>\n",
              "      <td>11627257723692907447</td>\n",
              "      <td>&gt;1w</td>\n",
              "    </tr>\n",
              "    <tr>\n",
              "      <th>2</th>\n",
              "      <td>2017-06-01 00:27:00</td>\n",
              "      <td>0.37</td>\n",
              "      <td>17903680561304213844</td>\n",
              "      <td>&gt;1w</td>\n",
              "    </tr>\n",
              "    <tr>\n",
              "      <th>3</th>\n",
              "      <td>2017-06-01 00:29:00</td>\n",
              "      <td>0.55</td>\n",
              "      <td>16109239769442553005</td>\n",
              "      <td>&gt;1w</td>\n",
              "    </tr>\n",
              "    <tr>\n",
              "      <th>4</th>\n",
              "      <td>2017-06-01 07:58:00</td>\n",
              "      <td>0.37</td>\n",
              "      <td>14200605875248379450</td>\n",
              "      <td>1w</td>\n",
              "    </tr>\n",
              "  </tbody>\n",
              "</table>\n",
              "</div>"
            ],
            "text/plain": [
              "               buy_ts  revenue                   uid conversion_category\n",
              "0 2017-06-01 00:10:00    17.00  10329302124590727494                  1w\n",
              "1 2017-06-01 00:25:00     0.55  11627257723692907447                 >1w\n",
              "2 2017-06-01 00:27:00     0.37  17903680561304213844                 >1w\n",
              "3 2017-06-01 00:29:00     0.55  16109239769442553005                 >1w\n",
              "4 2017-06-01 07:58:00     0.37  14200605875248379450                  1w"
            ]
          },
          "execution_count": 99,
          "metadata": {},
          "output_type": "execute_result"
        }
      ],
      "source": [
        "# Filtrar os pedidos realizados durante o período de tempo desejado\n",
        "pedidos_no_periodo = orders[(orders['buy_ts'] >= data_inicio) & (orders['buy_ts'] <= data_fim)]\n",
        "pedidos_no_periodo.head()"
      ]
    },
    {
      "cell_type": "code",
      "execution_count": null,
      "metadata": {
        "id": "zGX4jhs2kmrZ",
        "outputId": "028ed14c-deba-4d5b-80c5-6f29923d7f58"
      },
      "outputs": [
        {
          "name": "stdout",
          "output_type": "stream",
          "text": [
            "1     1723\n",
            "2      181\n",
            "3       33\n",
            "4        8\n",
            "5        4\n",
            "6        2\n",
            "11       1\n",
            "13       1\n",
            "Name: buy_ts, dtype: int64\n"
          ]
        }
      ],
      "source": [
        "# Verificar se há pedidos no período de tempo especificado\n",
        "if pedidos_no_periodo.empty:\n",
        "    print(\"Não há pedidos no período de tempo especificado.\")\n",
        "else:\n",
        "    # Agrupar os dados pelo identificador único do cliente (Uid) e contar o número de pedidos para cada cliente\n",
        "    numero_pedidos_por_cliente = pedidos_no_periodo.groupby('uid')['buy_ts'].count()\n",
        "    print(numero_pedidos_por_cliente.value_counts())"
      ]
    },
    {
      "cell_type": "markdown",
      "metadata": {
        "id": "CslZjK7akmrZ"
      },
      "source": [
        "- 1723 clientes fizeram exatamente 1 pedido.\n",
        "\n",
        "- 181 clientes fizeram exatamente 2 pedidos.\n",
        "\n",
        "- 33 clientes fizeram exatamente 3 pedidos.\n",
        "\n",
        "- 8 clientes fizeram exatamente 4 pedidos.\n",
        "\n",
        "- 4 clientes fizeram exatamente 5 pedidos.\n",
        "\n",
        "- 2 clientes fizeram exatamente 6 pedidos.\n",
        "\n",
        "- 1 cliente fez exatamente 11 pedidos.\n",
        "\n",
        "- 1 cliente fez exatamente 13 pedidos.\n",
        "\n",
        "Essa análise nos dá uma visão da distribuição do número de pedidos por cliente no período de tempo especificado. Por exemplo, é possível identificar que a maioria dos clientes fez apenas 1 pedido, e há poucos casos de clientes com vários pedidos durante esse período. Isso pode fornecer insights sobre o comportamento dos clientes e auxiliar em estratégias de marketing e retenção de clientes."
      ]
    },
    {
      "cell_type": "markdown",
      "metadata": {
        "id": "dqcqcam7kmra"
      },
      "source": [
        "### Qual é o volume médio de uma compra?\n",
        "\n",
        "Para calcular o volume médio de uma compra, vamos encontrar a média das receitas (valor total das compras) na tabela `orders`.Precisamos encontrar a receita total gerada por todas as compras e, em seguida, dividir esse valor pelo número total de compras."
      ]
    },
    {
      "cell_type": "code",
      "execution_count": null,
      "metadata": {
        "id": "xLLLD18fkmra"
      },
      "outputs": [],
      "source": [
        "# Calcular o volume médio de uma compra (média das receitas na tabela \"orders\")\n",
        "average_order_volume = orders['revenue'].mean()\n"
      ]
    },
    {
      "cell_type": "code",
      "execution_count": null,
      "metadata": {
        "id": "fafLRSyXkmra",
        "outputId": "bfe726d6-b61d-43c6-9da6-a180ea59fe8b"
      },
      "outputs": [
        {
          "name": "stdout",
          "output_type": "stream",
          "text": [
            "Volume médio de uma compra: 5.0\n"
          ]
        }
      ],
      "source": [
        "# Exibir o resultado\n",
        "print(\"Volume médio de uma compra:\", average_order_volume.round(3))"
      ]
    },
    {
      "cell_type": "markdown",
      "metadata": {
        "id": "-EDiqUmdkmra"
      },
      "source": [
        "O resultado de 5.0 indica que, em média, cada compra gera uma receita de 5 unidades (ou moeda, dependendo do contexto)."
      ]
    },
    {
      "cell_type": "markdown",
      "metadata": {
        "id": "e0OvXOZ4kmrb"
      },
      "source": [
        "### Quanto dinheiro eles trazem para a empresa (LTV)?\n",
        "\n",
        "Para calcular o Lifetime Value (LTV) ou valor de tempo de vida dos clientes, precisamos encontrar o valor total que cada cliente trouxe para a empresa durante todo o período de tempo dos dados disponíveis. O LTV é calculado com base na receita total gerada por cada cliente."
      ]
    },
    {
      "cell_type": "code",
      "execution_count": null,
      "metadata": {
        "id": "nnf7JZ-akmrb",
        "outputId": "be520a7c-da0d-4c58-95b1-321a497d95dc"
      },
      "outputs": [
        {
          "data": {
            "text/plain": [
              "uid\n",
              "313578113262317          0.55\n",
              "1575281904278712         3.05\n",
              "2429014661409475        73.33\n",
              "2464366381792757         2.44\n",
              "2551852515556206        10.99\n",
              "                        ...  \n",
              "18445147675727495770     3.05\n",
              "18445407535914413204     0.88\n",
              "18445601152732270159     4.22\n",
              "18446156210226471712     9.78\n",
              "18446167067214817906     7.94\n",
              "Name: revenue, Length: 36523, dtype: float64"
            ]
          },
          "execution_count": 103,
          "metadata": {},
          "output_type": "execute_result"
        }
      ],
      "source": [
        "# Calcular o valor total gasto por cada cliente (receita total)\n",
        "total_revenue_per_customer = orders.groupby('uid')['revenue'].sum()\n",
        "total_revenue_per_customer"
      ]
    },
    {
      "cell_type": "code",
      "execution_count": null,
      "metadata": {
        "id": "GurcOFy1kmrb"
      },
      "outputs": [],
      "source": [
        "# Calcular o LTV (valor de tempo de vida) médio dos clientes\n",
        "ltv_mean = total_revenue_per_customer.mean()"
      ]
    },
    {
      "cell_type": "code",
      "execution_count": null,
      "metadata": {
        "id": "0GVH06XBkmrc",
        "outputId": "72611791-ae04-4ad3-81d0-72bbf371b658"
      },
      "outputs": [
        {
          "name": "stdout",
          "output_type": "stream",
          "text": [
            "LTV (Valor Vitalício do Cliente) médio: 6.9\n"
          ]
        }
      ],
      "source": [
        "# Exibir o resultado\n",
        "print(\"LTV (Valor Vitalício do Cliente) médio:\", ltv_mean.round(2))"
      ]
    },
    {
      "cell_type": "markdown",
      "metadata": {
        "id": "Rx924zZBkmrc"
      },
      "source": [
        "LTV (Valor Vitalício do Cliente) de 6.9 indica que, em média, cada cliente traz uma receita de 6.9 unidades (ou moeda, dependendo do contexto) durante todo o seu relacionamento com a empresa.\n",
        "\n",
        "O LTV é uma métrica importante para entender o valor de longo prazo que cada cliente representa para o negócio. Quanto maior o LTV, mais valiosos são os clientes para a empresa, pois eles geram mais receita ao longo do tempo."
      ]
    },
    {
      "cell_type": "markdown",
      "metadata": {
        "id": "33oCfHgSkmrc"
      },
      "source": [
        "Conclusão sobre os resultados das métricas de vendas:\n",
        "\n",
        "1. Quando as pessoas começam a comprar?\n",
        "Ao analisar o tempo entre o registro do usuário e a primeira compra, identificamos padrões de comportamento de compra dos clientes em relação ao tempo após o registro. Isso nos permite entender o intervalo de tempo em que a maioria dos clientes realiza suas primeiras compras. Essa informação é valiosa para aprimorar as estratégias de marketing e melhorar a taxa de conversão.\n",
        "\n",
        "2. Quantos pedidos os clientes fazem durante um determinado período de tempo?\n",
        "Ao calcular o número de pedidos feitos por cada cliente durante um período específico, obtemos insights sobre a atividade de compra dos clientes ao longo do tempo. Essa métrica nos ajuda a identificar os clientes mais ativos e entender quais períodos são mais propícios para gerar vendas.\n",
        "\n",
        "3. Qual é o volume médio de uma compra?\n",
        "Ao determinar o volume médio de uma compra, podemos compreender o valor médio gerado por cada transação. Essa métrica é relevante para otimizar estratégias de precificação e melhorar a rentabilidade do negócio.\n",
        "\n",
        "4. Quanto dinheiro eles trazem para a empresa (LTV)?\n",
        "Ao calcular o LTV médio, que representa a receita média que cada cliente gera durante todo o seu relacionamento com a empresa, podemos avaliar a rentabilidade e o valor dos clientes a longo prazo. O LTV é uma métrica crítica para direcionar investimentos em aquisição de clientes e retenção, visando maximizar o retorno sobre o investimento.\n",
        "\n",
        "Em resumo, a análise das métricas de vendas nos permite entender o comportamento dos clientes, identificar oportunidades de crescimento e tomar decisões estratégicas informadas. Monitorar regularmente essas métricas é fundamental para garantir o sucesso do negócio e fornecer uma base sólida para o planejamento de estratégias futuras. Com a análise desses resultados, a empresa pode otimizar seu desempenho e aumentar a eficiência em suas operações de vendas."
      ]
    },
    {
      "cell_type": "markdown",
      "metadata": {
        "id": "FOSVRWE0kmrd"
      },
      "source": [
        "Analisamos o comportamento de conversão dos usuários em clientes, calculando o período de tempo entre o registro e a primeira compra. Essa informação pode ser valiosa para otimizar a eficiência das campanhas de marketing e aquisição de clientes.\n",
        "\n",
        "Identificamos o volume médio de pedidos, que permite entender o padrão de compra dos clientes e auxiliar no planejamento do estoque e logística. O cálculo do LTV dos clientes nos permite avaliar o valor de longo prazo que um cliente traz para a empresa e, assim, priorizar ações para aumentar a satisfação e fidelização dos clientes.\n",
        "\n",
        "Essas métricas são fundamentais para entender o comportamento dos clientes em relação às compras e a receita que eles geram para a empresa. Com base nessas informações, é possível planejar estratégias de marketing, promoções e ofertas para aumentar a conversão de novos clientes e maximizar o valor dos clientes existentes ao longo do tempo. É importante monitorar essas métricas continuamente para tomar decisões informadas e impulsionar o crescimento do negócio."
      ]
    },
    {
      "cell_type": "markdown",
      "metadata": {
        "id": "xktQCSL2kmre"
      },
      "source": [
        "## Marketing\n",
        "\n",
        "### Quanto dinheiro foi gasto? No total/por origem/ao longo do tempo\n",
        "\n",
        "Para responder a essa pergunta, podemos utilizar os dados da tabela `costs`, que contém informações sobre os gastos com marketing por origem e data. Podemos calcular o total de gastos somando a coluna `costs`. Para analisar os gastos por origem, agrupamos os dados pelo campo `source_id` e somamos os valores da coluna `costs`. Para analisar os gastos ao longo do tempo, podemos agrupar os dados por data (dt) e somar os gastos de cada dia."
      ]
    },
    {
      "cell_type": "code",
      "execution_count": null,
      "metadata": {
        "id": "7RCVKGvbkmre",
        "outputId": "4d75badf-604c-4bd2-c565-43881d7819e5"
      },
      "outputs": [
        {
          "data": {
            "text/plain": [
              "329131.62"
            ]
          },
          "execution_count": 106,
          "metadata": {},
          "output_type": "execute_result"
        }
      ],
      "source": [
        "# Calcular o total de gastos\n",
        "total_gastos = costs['costs'].sum()\n",
        "total_gastos"
      ]
    },
    {
      "cell_type": "code",
      "execution_count": null,
      "metadata": {
        "id": "0LYSVZ2Wkmre",
        "outputId": "fdcc82ba-638e-4238-8912-156ffa406710"
      },
      "outputs": [
        {
          "data": {
            "text/plain": [
              "source_id\n",
              "1      20833.27\n",
              "2      42806.04\n",
              "3     141321.63\n",
              "4      61073.60\n",
              "5      51757.10\n",
              "9       5517.49\n",
              "10      5822.49\n",
              "Name: costs, dtype: float64"
            ]
          },
          "execution_count": 107,
          "metadata": {},
          "output_type": "execute_result"
        }
      ],
      "source": [
        "# Calcular os gastos por origem\n",
        "gastos_por_origem = costs.groupby('source_id')['costs'].sum()\n",
        "gastos_por_origem"
      ]
    },
    {
      "cell_type": "code",
      "execution_count": null,
      "metadata": {
        "id": "qqTLkuy5kmrf",
        "outputId": "77b11cf5-8a24-46c5-fd77-f828faeefb88"
      },
      "outputs": [
        {
          "data": {
            "text/plain": [
              "dt\n",
              "2017-06-01     735.26\n",
              "2017-06-02     721.19\n",
              "2017-06-03     450.85\n",
              "2017-06-04     761.16\n",
              "2017-06-05     821.44\n",
              "               ...   \n",
              "2018-05-27     532.87\n",
              "2018-05-28     619.44\n",
              "2018-05-29     784.79\n",
              "2018-05-30    1183.00\n",
              "2018-05-31    2153.70\n",
              "Name: costs, Length: 364, dtype: float64"
            ]
          },
          "execution_count": 108,
          "metadata": {},
          "output_type": "execute_result"
        }
      ],
      "source": [
        "# Calcular os gastos ao longo do tempo\n",
        "gastos_ao_longo_do_tempo = costs.groupby('dt')['costs'].sum()\n",
        "gastos_ao_longo_do_tempo"
      ]
    },
    {
      "cell_type": "code",
      "execution_count": null,
      "metadata": {
        "id": "eVC8VU_4kmrf",
        "outputId": "70b37b29-43f7-4210-9481-f169f817e6d6"
      },
      "outputs": [
        {
          "name": "stdout",
          "output_type": "stream",
          "text": [
            "Total de gastos: 329131.62\n",
            "----------------------------\n",
            "\n",
            "Gastos por origem:\n",
            "source_id\n",
            "1      20833.27\n",
            "2      42806.04\n",
            "3     141321.63\n",
            "4      61073.60\n",
            "5      51757.10\n",
            "9       5517.49\n",
            "10      5822.49\n",
            "Name: costs, dtype: float64\n",
            "----------------------------\n",
            "\n",
            "Gastos ao longo do tempo:\n",
            "dt\n",
            "2017-06-01     735.26\n",
            "2017-06-02     721.19\n",
            "2017-06-03     450.85\n",
            "2017-06-04     761.16\n",
            "2017-06-05     821.44\n",
            "               ...   \n",
            "2018-05-27     532.87\n",
            "2018-05-28     619.44\n",
            "2018-05-29     784.79\n",
            "2018-05-30    1183.00\n",
            "2018-05-31    2153.70\n",
            "Name: costs, Length: 364, dtype: float64\n"
          ]
        }
      ],
      "source": [
        "#Exibir os resultados\n",
        "print(\"Total de gastos:\", total_gastos)\n",
        "print(\"----------------------------\")\n",
        "print(\"\\nGastos por origem:\")\n",
        "print(gastos_por_origem)\n",
        "print(\"----------------------------\")\n",
        "print(\"\\nGastos ao longo do tempo:\")\n",
        "print(gastos_ao_longo_do_tempo)"
      ]
    },
    {
      "cell_type": "markdown",
      "metadata": {
        "id": "ANSNY8Wskmrg"
      },
      "source": [
        "**Total de gastos:** O valor total gasto em marketing é de 329,131.62 unidades monetárias (ou a moeda utilizada nos dados).\n",
        "\n",
        "**Gastos por origem:** Os gastos por origem indicam quanto foi gasto em marketing para cada canal de origem de anúncio. Por exemplo:\n",
        "\n",
        "- Origem 1: Foram gastos 20,833.27 unidades monetárias.\n",
        "\n",
        "- Origem 2: Foram gastos 42,806.04 unidades monetárias.\n",
        "\n",
        "- Origem 3: Foram gastos 141,321.63 unidades monetárias.\n",
        "\n",
        "- Origem 4: Foram gastos 61,073.60 unidades monetárias.\n",
        "\n",
        "- Origem 5: Foram gastos 51,757.10 unidades monetárias.\n",
        "\n",
        "- Origem 9: Foram gastos 5,517.49 unidades monetárias.\n",
        "\n",
        "- Origem 10: Foram gastos 5,822.49 unidades monetárias.\n",
        "\n",
        "Os **resultados dos gastos ao longo do tempo** mostram a distribuição dos gastos de marketing em cada dia específico. Essa análise pode ser útil para identificar padrões de gastos ao longo do período de tempo registrado."
      ]
    },
    {
      "cell_type": "markdown",
      "metadata": {
        "id": "Qd5SpasMkmrh"
      },
      "source": [
        "### Quanto custou a aquisição de clientes para cada origem?\n",
        "\n",
        "Para calcular o custo de aquisição de clientes para cada origem de anúncio, podemos agrupar os dados da tabela `costs` pelo identificador da origem de anúncio (`source_id`) e somar os valores dos custos para cada origem. Isso nos dará o custo total de aquisição de clientes para cada fonte de marketing."
      ]
    },
    {
      "cell_type": "code",
      "execution_count": null,
      "metadata": {
        "id": "sIH7urCPkmrh"
      },
      "outputs": [],
      "source": [
        "# Calcular o custo de aquisição de clientes para cada origem de anúncio\n",
        "customer_acquisition_costs = costs.groupby('source_id')['costs'].sum()"
      ]
    },
    {
      "cell_type": "code",
      "execution_count": null,
      "metadata": {
        "id": "3E2A74c9kmrh",
        "outputId": "84ed7803-518f-41a0-b5a7-1fd9d1648c28"
      },
      "outputs": [
        {
          "name": "stdout",
          "output_type": "stream",
          "text": [
            "Custo de Aquisição de Clientes por Origem:\n",
            "source_id\n",
            "1      20833.27\n",
            "2      42806.04\n",
            "3     141321.63\n",
            "4      61073.60\n",
            "5      51757.10\n",
            "9       5517.49\n",
            "10      5822.49\n",
            "Name: costs, dtype: float64\n"
          ]
        }
      ],
      "source": [
        "# Exibir os resultados\n",
        "print(\"Custo de Aquisição de Clientes por Origem:\")\n",
        "print(customer_acquisition_costs)"
      ]
    },
    {
      "cell_type": "markdown",
      "metadata": {
        "id": "iB_YFBvHkmri"
      },
      "source": [
        "***Origem de Anúncio 1:*** $20,833.27\n",
        "\n",
        "***Origem de Anúncio 2:*** $42,806.04\n",
        "\n",
        "***Origem de Anúncio 3:*** $141,321.63\n",
        "\n",
        "***Origem de Anúncio 4:*** $61,073.60\n",
        "\n",
        "***Origem de Anúncio 5:*** $51,757.10\n",
        "\n",
        "***Origem de Anúncio 9:*** $5,517.49\n",
        "\n",
        "***Origem de Anúncio 10:*** $5,822.49\n",
        "\n",
        "Esses valores representam o montante gasto em marketing para atrair clientes de cada origem específica. A análise dos custos de aquisição de clientes por origem ajudará a avaliar a eficiência dos diferentes canais de marketing e a tomar decisões informadas sobre como alocar recursos de marketing de forma mais estratégica."
      ]
    },
    {
      "cell_type": "markdown",
      "metadata": {
        "id": "0irC7f1ikmri"
      },
      "source": [
        "### Os investimentos valeram a pena? (ROI)\n",
        "\n",
        "Para determinar se os investimentos em marketing valeram a pena em termos de ROI (Return on Investment), precisamos comparar a receita gerada pelos clientes provenientes de cada origem de anúncio com os custos de aquisição de clientes para essas origens. O ROI é calculado como a diferença entre a receita e os custos de aquisição, dividida pelos custos de aquisição.\n",
        "\n",
        "Vamos calcular o ROI para cada origem de anúncio usando os dados das tabelas `orders` e `costs`"
      ]
    },
    {
      "cell_type": "code",
      "execution_count": null,
      "metadata": {
        "id": "Kmw98VUVkmrj",
        "outputId": "86fee4e5-03ce-483c-f8ff-9cc5bce4c46b"
      },
      "outputs": [
        {
          "data": {
            "text/plain": [
              "source_id\n",
              "1      20833.27\n",
              "2      42806.04\n",
              "3     141321.63\n",
              "4      61073.60\n",
              "5      51757.10\n",
              "9       5517.49\n",
              "10      5822.49\n",
              "Name: costs, dtype: float64"
            ]
          },
          "execution_count": 112,
          "metadata": {},
          "output_type": "execute_result"
        }
      ],
      "source": [
        "# Calcular o custo de aquisição de clientes para cada origem de anúncio\n",
        "customer_acquisition_costs = costs.groupby('source_id')['costs'].sum()\n",
        "customer_acquisition_costs"
      ]
    },
    {
      "cell_type": "code",
      "execution_count": null,
      "metadata": {
        "id": "ZlhLJdkJkmrj",
        "outputId": "fe44b9af-a680-4096-af6a-532bf3a0d668"
      },
      "outputs": [
        {
          "data": {
            "text/plain": [
              "source_id\n",
              "1     2252.11\n",
              "2     3048.33\n",
              "3      210.08\n",
              "4      827.81\n",
              "5     1254.95\n",
              "9       60.99\n",
              "10      25.55\n",
              "Name: revenue, dtype: float64"
            ]
          },
          "execution_count": 113,
          "metadata": {},
          "output_type": "execute_result"
        }
      ],
      "source": [
        "# Calcular a receita gerada por cada origem de anúncio\n",
        "revenue_by_source = orders.merge(visits[['uid', 'source_id']], on='uid')\n",
        "\n",
        "revenue_by_source = revenue_by_source.groupby('source_id')['revenue'].sum()\n",
        "revenue_by_source"
      ]
    },
    {
      "cell_type": "code",
      "execution_count": null,
      "metadata": {
        "id": "4BsIrVjLkmrj"
      },
      "outputs": [],
      "source": [
        "# Calcular o ROI para cada origem de anúncio\n",
        "roi_by_source = (revenue_by_source - customer_acquisition_costs) / customer_acquisition_costs"
      ]
    },
    {
      "cell_type": "code",
      "execution_count": null,
      "metadata": {
        "id": "fpaL1RqBkmrj",
        "outputId": "37a0d233-281e-4fe3-f0cc-b563cde8d616"
      },
      "outputs": [
        {
          "name": "stdout",
          "output_type": "stream",
          "text": [
            "ROI por Origem:\n",
            "source_id\n",
            "1    -0.891898\n",
            "2    -0.928787\n",
            "3    -0.998513\n",
            "4    -0.986446\n",
            "5    -0.975753\n",
            "9    -0.988946\n",
            "10   -0.995612\n",
            "dtype: float64\n"
          ]
        }
      ],
      "source": [
        "# Exibir os resultados\n",
        "print(\"ROI por Origem:\")\n",
        "print(roi_by_source)"
      ]
    },
    {
      "cell_type": "markdown",
      "metadata": {
        "id": "VgPx1mYfkmrl"
      },
      "source": [
        "- Os resultados negativos de ROI indicam que os investimentos em marketing para cada origem de anúncio não foram lucrativos e não geraram receita suficiente para cobrir os custos de aquisição de clientes.\n",
        "\n",
        "- Isso significa que, com base nos dados disponíveis, as receitas geradas pelas vendas provenientes de cada origem de anúncio são menores do que os custos investidos para adquirir esses clientes. É uma situação indesejável, pois significa que os gastos com marketing estão excedendo a receita gerada pelas vendas.\n",
        "\n",
        "- Esses resultados negativos podem indicar que há problemas ou ineficiências nas estratégias de marketing, e é importante investigar mais a fundo para identificar os possíveis motivos para esse desempenho insatisfatório.\n",
        "\n",
        "- Com base nesses resultados, é recomendado revisar e otimizar as estratégias de marketing para melhorar o retorno sobre o investimento, seja redirecionando recursos para origens de anúncio mais lucrativas, ajustando as campanhas de marketing ou buscando outras formas de melhorar o desempenho das vendas e aquisição de clientes.\n",
        "\n",
        "- A análise contínua do ROI é essencial para tomar decisões informadas e eficazes em relação aos investimentos em marketing, visando alcançar melhores resultados financeiros para o negócio."
      ]
    },
    {
      "cell_type": "markdown",
      "metadata": {
        "id": "gdDgtJtRkmrl"
      },
      "source": [
        "Analisamos os custos de aquisição de clientes por origem de anúncio e identificamos as fontes mais eficientes e econômicas para direcionar os investimentos. Calculamos o ROI por origem de anúncio para entender a rentabilidade das estratégias de marketing e quais origens estão gerando retorno positivo. Visualizamos gráficos para entender como diferentes dispositivos e origens de anúncio se comportam ao longo do tempo, o que pode ajudar a identificar tendências e oportunidades.\n",
        "\n",
        "Com base nessas métricas, recomenda-se uma análise mais aprofundada dos investimentos em marketing e a busca por estratégias que possam melhorar o ROI. É importante entender o desempenho de cada origem de anúncio e identificar possíveis oportunidades de otimização para maximizar o retorno sobre os gastos com marketing. Além disso, é fundamental monitorar continuamente as métricas de marketing para tomar decisões informadas e eficazes na alocação de recursos."
      ]
    },
    {
      "cell_type": "markdown",
      "metadata": {
        "id": "6Nkbwhsakmrl"
      },
      "source": [
        "## Gráficos\n",
        "\n",
        "Vamos construir para ver como essas métricas diferem para vários dispositivos e diferentes origens de anúncios e como elas mudam com o tempo.\n",
        "\n",
        "### Gráfico 1: Quantidade de usuários únicos por dispositivo e origem de anúncio"
      ]
    },
    {
      "cell_type": "code",
      "execution_count": null,
      "metadata": {
        "id": "KFO4nVZokmrm",
        "outputId": "21ac5823-90fc-47f6-a2f7-16f71594ddf1"
      },
      "outputs": [
        {
          "data": {
            "image/png": "[encoded data removed]",
            "text/plain": [
              "<Figure size 864x432 with 1 Axes>"
            ]
          },
          "metadata": {
            "needs_background": "light"
          },
          "output_type": "display_data"
        }
      ],
      "source": [
        "# Gráfico 1: Quantidade de usuários únicos por dispositivo e origem de anúncio\n",
        "sns.set_palette(\"pastel\")\n",
        "plt.figure(figsize=(12, 6))\n",
        "sns.countplot(data=visits, x='device', hue='source_id')\n",
        "plt.title('Quantidade de Usuários Únicos por Dispositivo e Origem de Anúncio')\n",
        "plt.xlabel('Dispositivo')\n",
        "plt.ylabel('Quantidade de Usuários Únicos')\n",
        "plt.legend(title='Origem de Anúncio')\n",
        "plt.xticks(rotation=45)\n",
        "plt.tight_layout()\n",
        "plt.show()"
      ]
    },
    {
      "cell_type": "markdown",
      "metadata": {
        "id": "v8YA9Oiikmrm"
      },
      "source": [
        "O Gráfico 1 mostra a quantidade de usuários únicos agrupados por dispositivo (Mobile ou Desktop) e separados por origem de anúncio. Cada barra representa a contagem de usuários únicos em cada categoria. Ele permite comparar a quantidade de usuários únicos entre dispositivos Mobile e Desktop. Podemos observar se há diferenças significativas no número de usuários em cada dispositivo.\n",
        "\n",
        "As barras são coloridas de acordo com a origem de anúncio (source_id). Cada cor representa uma origem específica. Isso permite avaliar a distribuição dos usuários únicos por origem de anúncio.\n",
        "\n",
        "É possível identificar quais origens de anúncio atraem mais usuários em cada dispositivo. As barras mais altas indicam maior número de usuários provenientes de uma determinada origem. O gráfico permite identificar padrões e tendências nos dados, o que pode fornecer insights importantes para a estratégia de marketing.\n",
        "\n",
        "Por exemplo, pode-se verificar se determinada origem de anúncio tem melhor desempenho em um dispositivo específico ou se há diferenças significativas entre os dispositivos em relação ao número de usuários."
      ]
    },
    {
      "cell_type": "markdown",
      "metadata": {
        "id": "ry6FJtxfkmrm"
      },
      "source": [
        "### Gráfico 2: Receita total por dispositivo e origem de anúncio"
      ]
    },
    {
      "cell_type": "code",
      "execution_count": null,
      "metadata": {
        "id": "julGZ7mMkmrm",
        "outputId": "89a1e5fe-5875-46f4-994d-ac6be7db13a2"
      },
      "outputs": [
        {
          "data": {
            "image/png": "[encoded data removed]",
            "text/plain": [
              "<Figure size 864x432 with 1 Axes>"
            ]
          },
          "metadata": {
            "needs_background": "light"
          },
          "output_type": "display_data"
        }
      ],
      "source": [
        "# Gráfico 2: Receita total por dispositivo e origem de anúncio\n",
        "plt.figure(figsize=(12, 6))\n",
        "revenue_by_source_device = revenue_by_source.reset_index().merge(visits[['uid', 'device', 'source_id']], left_on='source_id', right_on='source_id')\n",
        "sns.barplot(data=revenue_by_source_device, x='device', y='revenue', hue='source_id', estimator=sum)\n",
        "plt.title('Receita Total por Dispositivo e Origem de Anúncio')\n",
        "plt.xlabel('Dispositivo')\n",
        "plt.ylabel('Receita Total')\n",
        "plt.legend(title='Origem de Anúncio')\n",
        "plt.xticks(rotation=45)\n",
        "plt.tight_layout()\n",
        "plt.show()"
      ]
    },
    {
      "cell_type": "markdown",
      "metadata": {
        "id": "JihDASmdkmrm"
      },
      "source": [
        "O Gráfico 2 mostra a receita total agrupada por dispositivo (Mobile ou Desktop) e separada por origem de anúncio. Cada barra representa a receita total gerada por cada origem em cada dispositivo. Ele permite comparar a receita total gerada por usuários em cada dispositivo (Mobile ou Desktop). Podemos observar se há diferenças significativas na receita entre os dispositivos.\n",
        "\n",
        "As barras são coloridas de acordo com a origem de anúncio (source_id). Cada cor representa uma origem específica. Isso permite avaliar a contribuição de cada origem para a receita total.\n",
        "\n",
        "É possível identificar quais origens de anúncio geram mais receita em cada dispositivo. As barras mais altas indicam maior receita proveniente de uma determinada origem.\n",
        "\n",
        "A combinação de cores e posições das barras mostra a receita total gerada por cada origem em cada dispositivo.\n",
        "\n",
        "O gráfico permite identificar padrões e tendências nos dados, o que pode fornecer insights importantes para a estratégia de marketing.\n",
        "\n",
        "- Por exemplo, pode-se verificar se determinada origem de anúncio gera mais receita em um dispositivo específico ou se há diferenças significativas entre os dispositivos em relação à receita total."
      ]
    },
    {
      "cell_type": "markdown",
      "metadata": {
        "id": "ySkI1Icskmrm"
      },
      "source": [
        "### Gráfico 3: Custo total de aquisição de clientes por origem de anúncio"
      ]
    },
    {
      "cell_type": "code",
      "execution_count": null,
      "metadata": {
        "id": "MY9QUdY6kmrm",
        "outputId": "0394e9de-618c-4ee5-cb0e-96ae9da3672b"
      },
      "outputs": [
        {
          "data": {
            "image/png": "[encoded data removed]",
            "text/plain": [
              "<Figure size 720x432 with 1 Axes>"
            ]
          },
          "metadata": {
            "needs_background": "light"
          },
          "output_type": "display_data"
        }
      ],
      "source": [
        "# Gráfico 3: Custo total de aquisição de clientes por origem de anúncio\n",
        "plt.figure(figsize=(10, 6))\n",
        "customer_acquisition_costs.plot(kind='bar', color='skyblue')\n",
        "plt.title('Custo Total de Aquisição de Clientes por Origem de Anúncio')\n",
        "plt.xlabel('Origem de Anúncio')\n",
        "plt.ylabel('Custo Total de Aquisição')\n",
        "plt.xticks(rotation=0)\n",
        "plt.tight_layout()\n",
        "plt.show()"
      ]
    },
    {
      "cell_type": "markdown",
      "metadata": {
        "id": "B5dbZtTYkmrn"
      },
      "source": [
        "O Gráfico 3 mostra o custo total de aquisição de clientes para cada origem de anúncio. Cada barra representa o valor total gasto em aquisição de clientes para uma origem específica.As barras estão identificadas com os números correspondentes às origens de anúncio (source_id). Cada barra representa o custo total de aquisição para uma origem específica.\n",
        "\n",
        "Podemos comparar visualmente os custos de aquisição entre as diferentes origens de anúncio. As barras mais altas indicam que a aquisição de clientes para essa origem foi mais dispendiosa em termos de investimentos em marketing.\n",
        "\n",
        "É possível identificar quais origens de anúncio têm custos mais baixos em relação à aquisição de clientes. Essas origens podem ser consideradas mais eficientes em termos de retorno sobre o investimento (ROI).\n",
        "\n",
        "Com base no gráfico, pode-se tomar decisões informadas sobre a alocação de recursos de marketing, concentrando-se em origens de anúncio que têm custos mais baixos de aquisição de clientes e maior eficiência.\n",
        "\n",
        "Podemos ainda avaliar a eficácia de cada origem de anúncio em termos de custo de aquisição, o que é essencial para medir o ROI das campanhas de marketing."
      ]
    },
    {
      "cell_type": "markdown",
      "metadata": {
        "id": "58LSTt7Rkmrn"
      },
      "source": [
        "### Gráfico 4: ROI por origem de anúncio ao longo do tempo"
      ]
    },
    {
      "cell_type": "code",
      "execution_count": null,
      "metadata": {
        "id": "RYasLHFukmrn",
        "outputId": "e8861b74-bef1-4605-d232-3bce25c4bd8a"
      },
      "outputs": [
        {
          "data": {
            "image/png": "[encoded data removed]",
            "text/plain": [
              "<Figure size 864x432 with 1 Axes>"
            ]
          },
          "metadata": {
            "needs_background": "light"
          },
          "output_type": "display_data"
        }
      ],
      "source": [
        "# Gráfico 4: ROI por origem de anúncio ao longo do tempo\n",
        "plt.figure(figsize=(12, 6))\n",
        "roi_by_source.plot(kind='line', marker='o', color='orange', linewidth=2)\n",
        "plt.title('ROI por Origem de Anúncio ao Longo do Tempo')\n",
        "plt.xlabel('Origem de Anúncio')\n",
        "plt.ylabel('ROI')\n",
        "plt.xticks(rotation=45)\n",
        "plt.tight_layout()\n",
        "plt.show()"
      ]
    },
    {
      "cell_type": "markdown",
      "metadata": {
        "id": "GtQmxaLUkmro"
      },
      "source": [
        "O Gráfico 4 mostra o ROI (Return on Investment) por origem de anúncio ao longo do tempo. O ROI é uma métrica importante que indica o retorno obtido em relação ao investimento feito em uma determinada campanha de marketing.\n",
        "O eixo x do gráfico representa as diferentes origens de anúncio (source_id). Cada ponto no gráfico representa o ROI para uma origem específica em um determinado momento no tempo.\n",
        "\n",
        "A linha que conecta os pontos no gráfico mostra a variação do ROI para cada origem de anúncio ao longo do tempo. Uma linha ascendente indica um ROI positivo, ou seja, o retorno obtido é maior do que o investimento realizado. Uma linha descendente indica um ROI negativo, o que significa que o investimento não está gerando retorno suficiente.\n",
        "\n",
        "Esse gráfico nos permite identificar quais origens de anúncio têm apresentado ROI positivo ao longo do tempo. Essas origens são consideradas mais eficientes em termos de retorno sobre o investimento.\n",
        "\n",
        "É possível observar as tendências do ROI para cada origem de anúncio ao longo do tempo. Isso é útil para acompanhar o desempenho das campanhas de marketing e avaliar se elas estão se tornando mais ou menos eficientes com o passar do tempo.\n",
        "\n",
        "Com base no gráfico, podemos tomar decisões estratégicas relacionadas ao investimento em cada origem de anúncio. Origens com ROI positivo podem ser priorizadas e receber mais investimentos, enquanto aquelas com ROI negativo podem ser reavaliadas ou descontinuadas."
      ]
    },
    {
      "cell_type": "markdown",
      "metadata": {
        "id": "IO5j7JLukmrp"
      },
      "source": [
        "## Conclusão\n",
        "\n",
        "Neste projeto, realizamos uma análise detalhada sobre o produto, vendas e estratégias de marketing da empresa Y.Afisha. As principais conclusões e recomendações são as seguintes:\n",
        "\n",
        "### Produto\n",
        "\n",
        "A análise sobre o produto revelou informações importantes sobre a utilização do site Y.Afisha pelos usuários.\n",
        "\n",
        "Descobrimos que o número de usuários por dia varia significativamente, com uma média de 45 a 50 usuários por dia. No entanto, em alguns dias específicos, esse número pode ser maior, chegando a até 123 usuários em um único dia.\n",
        "\n",
        "A análise dos usuários por semana mostrou que a maioria das semanas teve entre 1 e 10 usuários ativos. A semana com o maior número de usuários ativos foi a semana 11, que registrou 9 usuários.\n",
        "\n",
        "Ao analisar os usuários por mês, encontramos meses em que apenas 1 usuário esteve ativo no site. A maioria dos meses registrou entre 20 e 60 usuários ativos.\n",
        "\n",
        "Quanto às sessões, descobrimos que os usuários realizam várias sessões em um único dia. Em alguns dias, há apenas uma sessão, enquanto em outros dias, o número de sessões pode variar.\n",
        "\n",
        "O comprimento médio de cada sessão é de aproximadamente 10 minutos, o que pode indicar que os usuários estão engajados e passam um tempo considerável no site.\n",
        "\n",
        "A taxa de retorno de usuários, que representa a frequência com que os usuários voltam ao site, é de 1.42%. Isso significa que uma pequena proporção dos usuários retorna ao site em períodos subsequentes.\n",
        "\n",
        "Essas métricas fornecem uma visão geral do comportamento dos usuários em relação ao produto. Para melhorar a experiência do usuário e aumentar o engajamento, pode ser interessante implementar estratégias de retenção de clientes e personalização do conteúdo com base nos padrões de uso identificados."
      ]
    },
    {
      "cell_type": "markdown",
      "metadata": {
        "id": "ssKLj247kmrp"
      },
      "source": [
        "### Marketing\n",
        "\n",
        "O total de gastos com marketing foi considerável, atingindo 329,131.62 unidades monetárias.\n",
        "\n",
        "As origens de anúncio variaram amplamente em seus gastos, com algumas delas investindo valores significativos, enquanto outras tiveram gastos menores.\n",
        "\n",
        "O gráfico de gastos ao longo do tempo mostrou flutuações nas despesas com marketing, indicando possíveis variações nas estratégias ao longo do período analisado.\n",
        "\n",
        "O cálculo do CAC para cada origem revelou o custo médio de adquirir clientes através de diferentes canais de marketing.\n",
        "\n",
        "A análise de ROI para cada origem mostrou que nenhum dos canais de marketing alcançou um retorno positivo, sugerindo que os gastos com marketing não estão gerando o retorno desejado.\n",
        "\n",
        "Essas informações podem ser úteis para direcionar futuras decisões de investimento em marketing, buscando maximizar o retorno sobre os gastos e otimizar a eficiência das campanhas.\n",
        "\n",
        "**Resumindo os gráficos apresentados:**\n",
        "\n",
        "  - Gráfico 1 oferece uma visualização clara da quantidade de usuários únicos por dispositivo e origem de anúncio, permitindo uma análise comparativa e identificação de padrões relevantes para tomar decisões informadas sobre a alocação de recursos de marketing.\n",
        "  - Gráfico 2 oferece uma visualização clara da receita total por dispositivo e origem de anúncio, permitindo uma análise comparativa e identificação de padrões relevantes para tomar decisões informadas sobre a eficácia das campanhas de marketing e a alocação de recursos.\n",
        "  - Gráfico 3 fornece uma visão geral dos custos totais de aquisição de clientes por origem de anúncio, auxiliando na identificação de origens mais eficientes e na tomada de decisões estratégicas relacionadas ao investimento em marketing.\n",
        "  - Gráfico 4 fornece uma visão geral do desempenho do ROI por origem de anúncio ao longo do tempo, auxiliando na identificação de origens mais eficientes e na tomada de decisões informadas sobre o investimento em marketing.\n"
      ]
    },
    {
      "cell_type": "markdown",
      "metadata": {
        "id": "w9HW3ctVkmrq"
      },
      "source": [
        "#### Com base nas conclusões obtidas a partir das análises, as recomendações para as origens/plataformas de marketing são as seguintes:\n",
        "\n",
        "- Source_id 1: Embora essa origem tenha um ROI negativo, ela apresenta uma quantidade significativa de usuários únicos. Pode-se considerar otimizar as campanhas nessa origem para melhorar o retorno sobre o investimento.\n",
        "- Source_id 2: Apesar do ROI negativo, essa origem também possui uma quantidade considerável de usuários únicos. Recomenda-se investigar e ajustar as estratégias para obter um ROI positivo.\n",
        "- Source_id 9: Embora o ROI também seja negativo, essa origem apresenta um custo de aquisição de clientes relativamente baixo. Pode-se explorar oportunidades para otimizar as campanhas e melhorar o ROI.\n",
        "- Source_id 10: O ROI é negativo, mas o custo de aquisição de clientes é baixo. É importante analisar o desempenho e o potencial de conversão dessa origem antes de tomar decisões.\n",
        "\n",
        "**Métricas de Concentração:**\n",
        "\n",
        "O ROI é uma métrica-chave que indica se os investimentos em cada origem de anúncio estão gerando retorno positivo ou negativo. Concentramos a atenção no ROI para identificar as origens mais eficientes e aquelas que precisam de ajustes ou revisão.\n",
        "Custo de Aquisição de Clientes é uma mátrica importante para avaliar a eficiência dos investimentos em cada origem em relação ao custo de adquirir novos clientes.\n",
        "Quantidade de Usuários Únicos: Observamos a quantidade de usuários únicos por origem para entender o alcance e a popularidade de cada origem de anúncio.\n",
        "\n",
        "***Conclusões:***\n",
        "\n",
        "Algumas origens apresentam ROI negativo, o que indica que os investimentos nessas origens não estão gerando retorno suficiente. É essencial avaliar a eficiência das campanhas e fazer ajustes para melhorar o ROI.\n",
        "O custo de aquisição de clientes varia entre as origens, o que destaca a importância de otimizar o desempenho das campanhas e investir em origens que ofereçam custos mais baixos de aquisição.\n",
        "Origens com quantidade significativa de usuários únicos podem ser consideradas para otimização, pois têm potencial para gerar mais conversões se suas campanhas forem aprimoradas.\n",
        "A análise do ROI ao longo do tempo permite identificar tendências e fazer previsões para tomada de decisões futuras relacionadas ao investimento em marketing.\n",
        "\n",
        "Em suma, a recomendação se baseia em otimizar as origens que possuem grande potencial de usuários únicos, mesmo com ROI negativo, bem como investigar e ajustar estratégias para melhorar o ROI e reduzir o custo de aquisição de clientes em cada origem de anúncio. Essas abordagens ajudarão a direcionar os investimentos de forma mais eficaz e alcançar melhores resultados em termos de retorno sobre o investimento e crescimento do negócio."
      ]
    }
  ],
  "metadata": {
    "kernelspec": {
      "display_name": "Python 3 (ipykernel)",
      "language": "python",
      "name": "python3"
    },
    "language_info": {
      "codemirror_mode": {
        "name": "ipython",
        "version": 3
      },
      "file_extension": ".py",
      "mimetype": "text/x-python",
      "name": "python",
      "nbconvert_exporter": "python",
      "pygments_lexer": "ipython3",
      "version": "3.9.5"
    },
    "toc": {
      "base_numbering": 1,
      "nav_menu": {},
      "number_sections": true,
      "sideBar": true,
      "skip_h1_title": true,
      "title_cell": "Table of Contents",
      "title_sidebar": "Contents",
      "toc_cell": false,
      "toc_position": {
        "height": "calc(100% - 180px)",
        "left": "10px",
        "top": "150px",
        "width": "242.594px"
      },
      "toc_section_display": true,
      "toc_window_display": false
    },
    "colab": {
      "provenance": [],
      "include_colab_link": true
    }
  },
  "nbformat": 4,
  "nbformat_minor": 0
}